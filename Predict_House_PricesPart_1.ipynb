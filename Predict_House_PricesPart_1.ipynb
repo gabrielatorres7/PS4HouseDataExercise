{
  "cells": [
    {
      "cell_type": "markdown",
      "metadata": {
        "id": "view-in-github",
        "colab_type": "text"
      },
      "source": [
        "<a href=\"https://colab.research.google.com/github/gabrielatorres7/PS4HouseDataExercise/blob/master/Predict_House_PricesPart_1.ipynb\" target=\"_parent\"><img src=\"https://colab.research.google.com/assets/colab-badge.svg\" alt=\"Open In Colab\"/></a>"
      ]
    },
    {
      "cell_type": "code",
      "execution_count": 173,
      "metadata": {
        "id": "cxeXz0L6OyKB"
      },
      "outputs": [],
      "source": [
        "# House Sales Data, ETL, Build Predictive Model(linear regression), \n",
        "# Assess Model, Deploy Model   'houseSmallData.csv'\n",
        "# R^2 = 0.75  Percentage of the Price explained by the indep. variables\n",
        "import pandas as pd\n",
        "import numpy as np\n",
        "import matplotlib.pyplot as plt"
      ]
    },
    {
      "cell_type": "markdown",
      "metadata": {
        "id": "pjGQiPhcOyKF"
      },
      "source": [
        "### data_description.txt\n",
        "SalePrice — the property’s sale price in dollars. This is the target variable that you’re trying to predict.  \n",
        "MSSubClass — The building class  \n",
        "MSZoning — The general zoning classification \n",
        "MasVnrArea - Masonary Veneer Area in sq ft\n",
        "LotFrontage — Linear feet of street connected to property  \n",
        "LotArea — Lot size in square feet  \n",
        "Street — Type of road access  \n",
        "Alley — Type of alley access  \n",
        "LotShape — General shape of property  \n",
        "LandContour — Flatness of the property  \n",
        "Utilities — Type of utilities available  \n",
        "LotConfig — Lot configuration  "
      ]
    },
    {
      "cell_type": "markdown",
      "metadata": {
        "id": "EL4K43PsOyKH"
      },
      "source": [
        "$$Y = X\\beta + e $$"
      ]
    },
    {
      "cell_type": "code",
      "execution_count": 174,
      "metadata": {
        "id": "Z-zXU8hhOyKI",
        "outputId": "6103f6a6-ecb2-47b3-d4cf-33af60cc2be9",
        "colab": {
          "base_uri": "https://localhost:8080/",
          "height": 299
        }
      },
      "outputs": [
        {
          "output_type": "execute_result",
          "data": {
            "text/plain": [
              "   Id  MSSubClass MSZoning  LotFrontage  LotArea Street Alley LotShape  \\\n",
              "0   1          60       RL         65.0     8450   Pave   NaN      Reg   \n",
              "1   2          20       RL         80.0     9600   Pave   NaN      Reg   \n",
              "2   3          60       RL         68.0    11250   Pave   NaN      IR1   \n",
              "3   4          70       RL         60.0     9550   Pave   NaN      IR1   \n",
              "4   5          60       RL         84.0    14260   Pave   NaN      IR1   \n",
              "\n",
              "  LandContour Utilities  ... PoolArea PoolQC Fence MiscFeature MiscVal MoSold  \\\n",
              "0         Lvl    AllPub  ...        0    NaN   NaN         NaN       0      2   \n",
              "1         Lvl    AllPub  ...        0    NaN   NaN         NaN       0      5   \n",
              "2         Lvl    AllPub  ...        0    NaN   NaN         NaN       0      9   \n",
              "3         Lvl    AllPub  ...        0    NaN   NaN         NaN       0      2   \n",
              "4         Lvl    AllPub  ...        0    NaN   NaN         NaN       0     12   \n",
              "\n",
              "  YrSold  SaleType  SaleCondition  SalePrice  \n",
              "0   2008        WD         Normal     208500  \n",
              "1   2007        WD         Normal     181500  \n",
              "2   2008        WD         Normal     223500  \n",
              "3   2006        WD        Abnorml     140000  \n",
              "4   2008        WD         Normal     250000  \n",
              "\n",
              "[5 rows x 81 columns]"
            ],
            "text/html": [
              "\n",
              "  <div id=\"df-2ccc2a50-244c-42f5-9c89-454350bb8939\">\n",
              "    <div class=\"colab-df-container\">\n",
              "      <div>\n",
              "<style scoped>\n",
              "    .dataframe tbody tr th:only-of-type {\n",
              "        vertical-align: middle;\n",
              "    }\n",
              "\n",
              "    .dataframe tbody tr th {\n",
              "        vertical-align: top;\n",
              "    }\n",
              "\n",
              "    .dataframe thead th {\n",
              "        text-align: right;\n",
              "    }\n",
              "</style>\n",
              "<table border=\"1\" class=\"dataframe\">\n",
              "  <thead>\n",
              "    <tr style=\"text-align: right;\">\n",
              "      <th></th>\n",
              "      <th>Id</th>\n",
              "      <th>MSSubClass</th>\n",
              "      <th>MSZoning</th>\n",
              "      <th>LotFrontage</th>\n",
              "      <th>LotArea</th>\n",
              "      <th>Street</th>\n",
              "      <th>Alley</th>\n",
              "      <th>LotShape</th>\n",
              "      <th>LandContour</th>\n",
              "      <th>Utilities</th>\n",
              "      <th>...</th>\n",
              "      <th>PoolArea</th>\n",
              "      <th>PoolQC</th>\n",
              "      <th>Fence</th>\n",
              "      <th>MiscFeature</th>\n",
              "      <th>MiscVal</th>\n",
              "      <th>MoSold</th>\n",
              "      <th>YrSold</th>\n",
              "      <th>SaleType</th>\n",
              "      <th>SaleCondition</th>\n",
              "      <th>SalePrice</th>\n",
              "    </tr>\n",
              "  </thead>\n",
              "  <tbody>\n",
              "    <tr>\n",
              "      <th>0</th>\n",
              "      <td>1</td>\n",
              "      <td>60</td>\n",
              "      <td>RL</td>\n",
              "      <td>65.0</td>\n",
              "      <td>8450</td>\n",
              "      <td>Pave</td>\n",
              "      <td>NaN</td>\n",
              "      <td>Reg</td>\n",
              "      <td>Lvl</td>\n",
              "      <td>AllPub</td>\n",
              "      <td>...</td>\n",
              "      <td>0</td>\n",
              "      <td>NaN</td>\n",
              "      <td>NaN</td>\n",
              "      <td>NaN</td>\n",
              "      <td>0</td>\n",
              "      <td>2</td>\n",
              "      <td>2008</td>\n",
              "      <td>WD</td>\n",
              "      <td>Normal</td>\n",
              "      <td>208500</td>\n",
              "    </tr>\n",
              "    <tr>\n",
              "      <th>1</th>\n",
              "      <td>2</td>\n",
              "      <td>20</td>\n",
              "      <td>RL</td>\n",
              "      <td>80.0</td>\n",
              "      <td>9600</td>\n",
              "      <td>Pave</td>\n",
              "      <td>NaN</td>\n",
              "      <td>Reg</td>\n",
              "      <td>Lvl</td>\n",
              "      <td>AllPub</td>\n",
              "      <td>...</td>\n",
              "      <td>0</td>\n",
              "      <td>NaN</td>\n",
              "      <td>NaN</td>\n",
              "      <td>NaN</td>\n",
              "      <td>0</td>\n",
              "      <td>5</td>\n",
              "      <td>2007</td>\n",
              "      <td>WD</td>\n",
              "      <td>Normal</td>\n",
              "      <td>181500</td>\n",
              "    </tr>\n",
              "    <tr>\n",
              "      <th>2</th>\n",
              "      <td>3</td>\n",
              "      <td>60</td>\n",
              "      <td>RL</td>\n",
              "      <td>68.0</td>\n",
              "      <td>11250</td>\n",
              "      <td>Pave</td>\n",
              "      <td>NaN</td>\n",
              "      <td>IR1</td>\n",
              "      <td>Lvl</td>\n",
              "      <td>AllPub</td>\n",
              "      <td>...</td>\n",
              "      <td>0</td>\n",
              "      <td>NaN</td>\n",
              "      <td>NaN</td>\n",
              "      <td>NaN</td>\n",
              "      <td>0</td>\n",
              "      <td>9</td>\n",
              "      <td>2008</td>\n",
              "      <td>WD</td>\n",
              "      <td>Normal</td>\n",
              "      <td>223500</td>\n",
              "    </tr>\n",
              "    <tr>\n",
              "      <th>3</th>\n",
              "      <td>4</td>\n",
              "      <td>70</td>\n",
              "      <td>RL</td>\n",
              "      <td>60.0</td>\n",
              "      <td>9550</td>\n",
              "      <td>Pave</td>\n",
              "      <td>NaN</td>\n",
              "      <td>IR1</td>\n",
              "      <td>Lvl</td>\n",
              "      <td>AllPub</td>\n",
              "      <td>...</td>\n",
              "      <td>0</td>\n",
              "      <td>NaN</td>\n",
              "      <td>NaN</td>\n",
              "      <td>NaN</td>\n",
              "      <td>0</td>\n",
              "      <td>2</td>\n",
              "      <td>2006</td>\n",
              "      <td>WD</td>\n",
              "      <td>Abnorml</td>\n",
              "      <td>140000</td>\n",
              "    </tr>\n",
              "    <tr>\n",
              "      <th>4</th>\n",
              "      <td>5</td>\n",
              "      <td>60</td>\n",
              "      <td>RL</td>\n",
              "      <td>84.0</td>\n",
              "      <td>14260</td>\n",
              "      <td>Pave</td>\n",
              "      <td>NaN</td>\n",
              "      <td>IR1</td>\n",
              "      <td>Lvl</td>\n",
              "      <td>AllPub</td>\n",
              "      <td>...</td>\n",
              "      <td>0</td>\n",
              "      <td>NaN</td>\n",
              "      <td>NaN</td>\n",
              "      <td>NaN</td>\n",
              "      <td>0</td>\n",
              "      <td>12</td>\n",
              "      <td>2008</td>\n",
              "      <td>WD</td>\n",
              "      <td>Normal</td>\n",
              "      <td>250000</td>\n",
              "    </tr>\n",
              "  </tbody>\n",
              "</table>\n",
              "<p>5 rows × 81 columns</p>\n",
              "</div>\n",
              "      <button class=\"colab-df-convert\" onclick=\"convertToInteractive('df-2ccc2a50-244c-42f5-9c89-454350bb8939')\"\n",
              "              title=\"Convert this dataframe to an interactive table.\"\n",
              "              style=\"display:none;\">\n",
              "        \n",
              "  <svg xmlns=\"http://www.w3.org/2000/svg\" height=\"24px\"viewBox=\"0 0 24 24\"\n",
              "       width=\"24px\">\n",
              "    <path d=\"M0 0h24v24H0V0z\" fill=\"none\"/>\n",
              "    <path d=\"M18.56 5.44l.94 2.06.94-2.06 2.06-.94-2.06-.94-.94-2.06-.94 2.06-2.06.94zm-11 1L8.5 8.5l.94-2.06 2.06-.94-2.06-.94L8.5 2.5l-.94 2.06-2.06.94zm10 10l.94 2.06.94-2.06 2.06-.94-2.06-.94-.94-2.06-.94 2.06-2.06.94z\"/><path d=\"M17.41 7.96l-1.37-1.37c-.4-.4-.92-.59-1.43-.59-.52 0-1.04.2-1.43.59L10.3 9.45l-7.72 7.72c-.78.78-.78 2.05 0 2.83L4 21.41c.39.39.9.59 1.41.59.51 0 1.02-.2 1.41-.59l7.78-7.78 2.81-2.81c.8-.78.8-2.07 0-2.86zM5.41 20L4 18.59l7.72-7.72 1.47 1.35L5.41 20z\"/>\n",
              "  </svg>\n",
              "      </button>\n",
              "      \n",
              "  <style>\n",
              "    .colab-df-container {\n",
              "      display:flex;\n",
              "      flex-wrap:wrap;\n",
              "      gap: 12px;\n",
              "    }\n",
              "\n",
              "    .colab-df-convert {\n",
              "      background-color: #E8F0FE;\n",
              "      border: none;\n",
              "      border-radius: 50%;\n",
              "      cursor: pointer;\n",
              "      display: none;\n",
              "      fill: #1967D2;\n",
              "      height: 32px;\n",
              "      padding: 0 0 0 0;\n",
              "      width: 32px;\n",
              "    }\n",
              "\n",
              "    .colab-df-convert:hover {\n",
              "      background-color: #E2EBFA;\n",
              "      box-shadow: 0px 1px 2px rgba(60, 64, 67, 0.3), 0px 1px 3px 1px rgba(60, 64, 67, 0.15);\n",
              "      fill: #174EA6;\n",
              "    }\n",
              "\n",
              "    [theme=dark] .colab-df-convert {\n",
              "      background-color: #3B4455;\n",
              "      fill: #D2E3FC;\n",
              "    }\n",
              "\n",
              "    [theme=dark] .colab-df-convert:hover {\n",
              "      background-color: #434B5C;\n",
              "      box-shadow: 0px 1px 3px 1px rgba(0, 0, 0, 0.15);\n",
              "      filter: drop-shadow(0px 1px 2px rgba(0, 0, 0, 0.3));\n",
              "      fill: #FFFFFF;\n",
              "    }\n",
              "  </style>\n",
              "\n",
              "      <script>\n",
              "        const buttonEl =\n",
              "          document.querySelector('#df-2ccc2a50-244c-42f5-9c89-454350bb8939 button.colab-df-convert');\n",
              "        buttonEl.style.display =\n",
              "          google.colab.kernel.accessAllowed ? 'block' : 'none';\n",
              "\n",
              "        async function convertToInteractive(key) {\n",
              "          const element = document.querySelector('#df-2ccc2a50-244c-42f5-9c89-454350bb8939');\n",
              "          const dataTable =\n",
              "            await google.colab.kernel.invokeFunction('convertToInteractive',\n",
              "                                                     [key], {});\n",
              "          if (!dataTable) return;\n",
              "\n",
              "          const docLinkHtml = 'Like what you see? Visit the ' +\n",
              "            '<a target=\"_blank\" href=https://colab.research.google.com/notebooks/data_table.ipynb>data table notebook</a>'\n",
              "            + ' to learn more about interactive tables.';\n",
              "          element.innerHTML = '';\n",
              "          dataTable['output_type'] = 'display_data';\n",
              "          await google.colab.output.renderOutput(dataTable, element);\n",
              "          const docLink = document.createElement('div');\n",
              "          docLink.innerHTML = docLinkHtml;\n",
              "          element.appendChild(docLink);\n",
              "        }\n",
              "      </script>\n",
              "    </div>\n",
              "  </div>\n",
              "  "
            ]
          },
          "metadata": {},
          "execution_count": 174
        }
      ],
      "source": [
        "url = \"https://raw.githubusercontent.com/gabrielatorres7/PS4HouseDataExercise/master/train.csv\"\n",
        "data = pd.read_csv(url)\n",
        "train = data.iloc[0:460,:]\n",
        "train.head()\n"
      ]
    },
    {
      "cell_type": "code",
      "source": [
        "train.shape\n",
        "train\n",
        "train.shape"
      ],
      "metadata": {
        "colab": {
          "base_uri": "https://localhost:8080/"
        },
        "id": "4fpAoZLJY9CX",
        "outputId": "5752f5ad-f222-4678-c44d-83d227921ed7"
      },
      "execution_count": 175,
      "outputs": [
        {
          "output_type": "execute_result",
          "data": {
            "text/plain": [
              "(460, 81)"
            ]
          },
          "metadata": {},
          "execution_count": 175
        }
      ]
    },
    {
      "cell_type": "code",
      "source": [
        "#investigate Sales Price\n",
        "train['SalePrice']"
      ],
      "metadata": {
        "colab": {
          "base_uri": "https://localhost:8080/"
        },
        "id": "FCm6SZL4ZWeI",
        "outputId": "a8ff547e-b5a9-49e1-86a1-7e74f339f040"
      },
      "execution_count": 176,
      "outputs": [
        {
          "output_type": "execute_result",
          "data": {
            "text/plain": [
              "0      208500\n",
              "1      181500\n",
              "2      223500\n",
              "3      140000\n",
              "4      250000\n",
              "        ...  \n",
              "455    175500\n",
              "456     98000\n",
              "457    256000\n",
              "458    161000\n",
              "459    110000\n",
              "Name: SalePrice, Length: 460, dtype: int64"
            ]
          },
          "metadata": {},
          "execution_count": 176
        }
      ]
    },
    {
      "cell_type": "code",
      "source": [
        "#plot hist\n",
        "plt.hist(train['SalePrice'])"
      ],
      "metadata": {
        "colab": {
          "base_uri": "https://localhost:8080/",
          "height": 334
        },
        "id": "htgmMDt6Z9cL",
        "outputId": "43c89a9e-bad5-4596-d267-df4c82100c8c"
      },
      "execution_count": 177,
      "outputs": [
        {
          "output_type": "execute_result",
          "data": {
            "text/plain": [
              "(array([ 32., 133., 138.,  83.,  34.,  22.,   9.,   6.,   2.,   1.]),\n",
              " array([ 40000.,  91500., 143000., 194500., 246000., 297500., 349000.,\n",
              "        400500., 452000., 503500., 555000.]),\n",
              " <a list of 10 Patch objects>)"
            ]
          },
          "metadata": {},
          "execution_count": 177
        },
        {
          "output_type": "display_data",
          "data": {
            "text/plain": [
              "<Figure size 432x288 with 1 Axes>"
            ],
            "image/png": "[encoded data removed]"
          },
          "metadata": {
            "needs_background": "light"
          }
        }
      ]
    },
    {
      "cell_type": "code",
      "source": [
        "#select numeric columns\n",
        "# calculate correlation factor\n",
        "numeric = train.select_dtypes(include=[np.number])\n",
        "numeric.shape"
      ],
      "metadata": {
        "colab": {
          "base_uri": "https://localhost:8080/"
        },
        "id": "LRW84YDPaQ3Y",
        "outputId": "357aefd9-0233-42d6-9318-f146306def85"
      },
      "execution_count": 178,
      "outputs": [
        {
          "output_type": "execute_result",
          "data": {
            "text/plain": [
              "(460, 38)"
            ]
          },
          "metadata": {},
          "execution_count": 178
        }
      ]
    },
    {
      "cell_type": "code",
      "source": [
        "#correlation\n",
        "corr = numeric.corr()\n",
        "corr.shape"
      ],
      "metadata": {
        "colab": {
          "base_uri": "https://localhost:8080/"
        },
        "id": "EA2TtjT6almN",
        "outputId": "a24168a2-1cb2-456d-9939-dfe98286ceb4"
      },
      "execution_count": 179,
      "outputs": [
        {
          "output_type": "execute_result",
          "data": {
            "text/plain": [
              "(38, 38)"
            ]
          },
          "metadata": {},
          "execution_count": 179
        }
      ]
    },
    {
      "cell_type": "code",
      "source": [
        "#correlation shape price\n",
        "corr = numeric.corr()\n",
        "cols = corr['SalePrice'].sort_values(ascending=False)[0:5]\n",
        "cols"
      ],
      "metadata": {
        "colab": {
          "base_uri": "https://localhost:8080/"
        },
        "id": "-gtrBEmgax4d",
        "outputId": "f3ba92ce-e2e3-40a0-de82-eb9e81dba349"
      },
      "execution_count": 180,
      "outputs": [
        {
          "output_type": "execute_result",
          "data": {
            "text/plain": [
              "SalePrice      1.000000\n",
              "OverallQual    0.805232\n",
              "GrLivArea      0.754494\n",
              "GarageCars     0.686074\n",
              "GarageArea     0.684000\n",
              "Name: SalePrice, dtype: float64"
            ]
          },
          "metadata": {},
          "execution_count": 180
        }
      ]
    },
    {
      "cell_type": "code",
      "source": [
        "#find correlations\n",
        "corr = numeric.corr()\n",
        "cols = corr['SalePrice'].sort_values(ascending=False)[0:3].index\n",
        "cols"
      ],
      "metadata": {
        "colab": {
          "base_uri": "https://localhost:8080/"
        },
        "id": "hQP7Q4PhbgF4",
        "outputId": "68bfeae4-ff97-4af0-9d63-42b86e5d4b68"
      },
      "execution_count": 181,
      "outputs": [
        {
          "output_type": "execute_result",
          "data": {
            "text/plain": [
              "Index(['SalePrice', 'OverallQual', 'GrLivArea'], dtype='object')"
            ]
          },
          "metadata": {},
          "execution_count": 181
        }
      ]
    },
    {
      "cell_type": "code",
      "source": [
        "# pick out X cols and Y = SalesPrice\n",
        "X = train[cols]\n",
        "Y = train['SalePrice']\n",
        "X = X.drop(['SalePrice'], axis = 1)\n",
        "X"
      ],
      "metadata": {
        "colab": {
          "base_uri": "https://localhost:8080/",
          "height": 424
        },
        "id": "AakGldpubs2x",
        "outputId": "336de937-3ccd-4ab4-b1fe-c98fbad4d1e3"
      },
      "execution_count": 182,
      "outputs": [
        {
          "output_type": "execute_result",
          "data": {
            "text/plain": [
              "     OverallQual  GrLivArea\n",
              "0              7       1710\n",
              "1              6       1262\n",
              "2              7       1786\n",
              "3              7       1717\n",
              "4              8       2198\n",
              "..           ...        ...\n",
              "455            7       1242\n",
              "456            5       1344\n",
              "457            4       1663\n",
              "458            8       1666\n",
              "459            5       1203\n",
              "\n",
              "[460 rows x 2 columns]"
            ],
            "text/html": [
              "\n",
              "  <div id=\"df-d775680b-dd40-460d-8c02-e469a40c471f\">\n",
              "    <div class=\"colab-df-container\">\n",
              "      <div>\n",
              "<style scoped>\n",
              "    .dataframe tbody tr th:only-of-type {\n",
              "        vertical-align: middle;\n",
              "    }\n",
              "\n",
              "    .dataframe tbody tr th {\n",
              "        vertical-align: top;\n",
              "    }\n",
              "\n",
              "    .dataframe thead th {\n",
              "        text-align: right;\n",
              "    }\n",
              "</style>\n",
              "<table border=\"1\" class=\"dataframe\">\n",
              "  <thead>\n",
              "    <tr style=\"text-align: right;\">\n",
              "      <th></th>\n",
              "      <th>OverallQual</th>\n",
              "      <th>GrLivArea</th>\n",
              "    </tr>\n",
              "  </thead>\n",
              "  <tbody>\n",
              "    <tr>\n",
              "      <th>0</th>\n",
              "      <td>7</td>\n",
              "      <td>1710</td>\n",
              "    </tr>\n",
              "    <tr>\n",
              "      <th>1</th>\n",
              "      <td>6</td>\n",
              "      <td>1262</td>\n",
              "    </tr>\n",
              "    <tr>\n",
              "      <th>2</th>\n",
              "      <td>7</td>\n",
              "      <td>1786</td>\n",
              "    </tr>\n",
              "    <tr>\n",
              "      <th>3</th>\n",
              "      <td>7</td>\n",
              "      <td>1717</td>\n",
              "    </tr>\n",
              "    <tr>\n",
              "      <th>4</th>\n",
              "      <td>8</td>\n",
              "      <td>2198</td>\n",
              "    </tr>\n",
              "    <tr>\n",
              "      <th>...</th>\n",
              "      <td>...</td>\n",
              "      <td>...</td>\n",
              "    </tr>\n",
              "    <tr>\n",
              "      <th>455</th>\n",
              "      <td>7</td>\n",
              "      <td>1242</td>\n",
              "    </tr>\n",
              "    <tr>\n",
              "      <th>456</th>\n",
              "      <td>5</td>\n",
              "      <td>1344</td>\n",
              "    </tr>\n",
              "    <tr>\n",
              "      <th>457</th>\n",
              "      <td>4</td>\n",
              "      <td>1663</td>\n",
              "    </tr>\n",
              "    <tr>\n",
              "      <th>458</th>\n",
              "      <td>8</td>\n",
              "      <td>1666</td>\n",
              "    </tr>\n",
              "    <tr>\n",
              "      <th>459</th>\n",
              "      <td>5</td>\n",
              "      <td>1203</td>\n",
              "    </tr>\n",
              "  </tbody>\n",
              "</table>\n",
              "<p>460 rows × 2 columns</p>\n",
              "</div>\n",
              "      <button class=\"colab-df-convert\" onclick=\"convertToInteractive('df-d775680b-dd40-460d-8c02-e469a40c471f')\"\n",
              "              title=\"Convert this dataframe to an interactive table.\"\n",
              "              style=\"display:none;\">\n",
              "        \n",
              "  <svg xmlns=\"http://www.w3.org/2000/svg\" height=\"24px\"viewBox=\"0 0 24 24\"\n",
              "       width=\"24px\">\n",
              "    <path d=\"M0 0h24v24H0V0z\" fill=\"none\"/>\n",
              "    <path d=\"M18.56 5.44l.94 2.06.94-2.06 2.06-.94-2.06-.94-.94-2.06-.94 2.06-2.06.94zm-11 1L8.5 8.5l.94-2.06 2.06-.94-2.06-.94L8.5 2.5l-.94 2.06-2.06.94zm10 10l.94 2.06.94-2.06 2.06-.94-2.06-.94-.94-2.06-.94 2.06-2.06.94z\"/><path d=\"M17.41 7.96l-1.37-1.37c-.4-.4-.92-.59-1.43-.59-.52 0-1.04.2-1.43.59L10.3 9.45l-7.72 7.72c-.78.78-.78 2.05 0 2.83L4 21.41c.39.39.9.59 1.41.59.51 0 1.02-.2 1.41-.59l7.78-7.78 2.81-2.81c.8-.78.8-2.07 0-2.86zM5.41 20L4 18.59l7.72-7.72 1.47 1.35L5.41 20z\"/>\n",
              "  </svg>\n",
              "      </button>\n",
              "      \n",
              "  <style>\n",
              "    .colab-df-container {\n",
              "      display:flex;\n",
              "      flex-wrap:wrap;\n",
              "      gap: 12px;\n",
              "    }\n",
              "\n",
              "    .colab-df-convert {\n",
              "      background-color: #E8F0FE;\n",
              "      border: none;\n",
              "      border-radius: 50%;\n",
              "      cursor: pointer;\n",
              "      display: none;\n",
              "      fill: #1967D2;\n",
              "      height: 32px;\n",
              "      padding: 0 0 0 0;\n",
              "      width: 32px;\n",
              "    }\n",
              "\n",
              "    .colab-df-convert:hover {\n",
              "      background-color: #E2EBFA;\n",
              "      box-shadow: 0px 1px 2px rgba(60, 64, 67, 0.3), 0px 1px 3px 1px rgba(60, 64, 67, 0.15);\n",
              "      fill: #174EA6;\n",
              "    }\n",
              "\n",
              "    [theme=dark] .colab-df-convert {\n",
              "      background-color: #3B4455;\n",
              "      fill: #D2E3FC;\n",
              "    }\n",
              "\n",
              "    [theme=dark] .colab-df-convert:hover {\n",
              "      background-color: #434B5C;\n",
              "      box-shadow: 0px 1px 3px 1px rgba(0, 0, 0, 0.15);\n",
              "      filter: drop-shadow(0px 1px 2px rgba(0, 0, 0, 0.3));\n",
              "      fill: #FFFFFF;\n",
              "    }\n",
              "  </style>\n",
              "\n",
              "      <script>\n",
              "        const buttonEl =\n",
              "          document.querySelector('#df-d775680b-dd40-460d-8c02-e469a40c471f button.colab-df-convert');\n",
              "        buttonEl.style.display =\n",
              "          google.colab.kernel.accessAllowed ? 'block' : 'none';\n",
              "\n",
              "        async function convertToInteractive(key) {\n",
              "          const element = document.querySelector('#df-d775680b-dd40-460d-8c02-e469a40c471f');\n",
              "          const dataTable =\n",
              "            await google.colab.kernel.invokeFunction('convertToInteractive',\n",
              "                                                     [key], {});\n",
              "          if (!dataTable) return;\n",
              "\n",
              "          const docLinkHtml = 'Like what you see? Visit the ' +\n",
              "            '<a target=\"_blank\" href=https://colab.research.google.com/notebooks/data_table.ipynb>data table notebook</a>'\n",
              "            + ' to learn more about interactive tables.';\n",
              "          element.innerHTML = '';\n",
              "          dataTable['output_type'] = 'display_data';\n",
              "          await google.colab.output.renderOutput(dataTable, element);\n",
              "          const docLink = document.createElement('div');\n",
              "          docLink.innerHTML = docLinkHtml;\n",
              "          element.appendChild(docLink);\n",
              "        }\n",
              "      </script>\n",
              "    </div>\n",
              "  </div>\n",
              "  "
            ]
          },
          "metadata": {},
          "execution_count": 182
        }
      ]
    },
    {
      "cell_type": "markdown",
      "source": [],
      "metadata": {
        "id": "jBtfRoBJcbfv"
      }
    },
    {
      "cell_type": "code",
      "source": [
        "#build linear regression model\n",
        "from sklearn import linear_model\n",
        "lr = linear_model.LinearRegression()\n",
        "model = lr.fit(X,Y)\n",
        "predictions = model.predict(X)\n"
      ],
      "metadata": {
        "id": "_vIpnBPiceOT"
      },
      "execution_count": 183,
      "outputs": []
    },
    {
      "cell_type": "code",
      "source": [
        "#how good the model is\n",
        "model.score(X,Y)\n"
      ],
      "metadata": {
        "colab": {
          "base_uri": "https://localhost:8080/"
        },
        "id": "dT-L-IURc9Bv",
        "outputId": "d8117096-a402-4d16-a0c4-8b6341ae6871"
      },
      "execution_count": 184,
      "outputs": [
        {
          "output_type": "execute_result",
          "data": {
            "text/plain": [
              "0.7540090637721906"
            ]
          },
          "metadata": {},
          "execution_count": 184
        }
      ]
    },
    {
      "cell_type": "code",
      "source": [
        "#Scatter plot of predictions\n",
        "plt.scatter(predictions, Y)"
      ],
      "metadata": {
        "colab": {
          "base_uri": "https://localhost:8080/",
          "height": 282
        },
        "id": "zFXzXjkGdKVT",
        "outputId": "de40d079-44b4-46cf-847a-d82f06c6355c"
      },
      "execution_count": 185,
      "outputs": [
        {
          "output_type": "execute_result",
          "data": {
            "text/plain": [
              "<matplotlib.collections.PathCollection at 0x7f73e2cc3b50>"
            ]
          },
          "metadata": {},
          "execution_count": 185
        },
        {
          "output_type": "display_data",
          "data": {
            "text/plain": [
              "<Figure size 432x288 with 1 Axes>"
            ],
            "image/png": "[encoded data removed]"
          },
          "metadata": {
            "needs_background": "light"
          }
        }
      ]
    },
    {
      "cell_type": "code",
      "source": [
        "#test2"
      ],
      "metadata": {
        "id": "KEbSBlCRgSG3"
      },
      "execution_count": 186,
      "outputs": []
    },
    {
      "cell_type": "code",
      "source": [
        "#correlation shape price\n",
        "corr = numeric.corr()\n",
        "cols = corr['SalePrice'].sort_values(ascending=False)[0:10]\n",
        "cols"
      ],
      "metadata": {
        "colab": {
          "base_uri": "https://localhost:8080/"
        },
        "id": "30ZhWaO1dwY0",
        "outputId": "c7d84bb9-725e-4a98-a28b-abb668070f31"
      },
      "execution_count": 187,
      "outputs": [
        {
          "output_type": "execute_result",
          "data": {
            "text/plain": [
              "SalePrice       1.000000\n",
              "OverallQual     0.805232\n",
              "GrLivArea       0.754494\n",
              "GarageCars      0.686074\n",
              "GarageArea      0.684000\n",
              "TotalBsmtSF     0.630316\n",
              "1stFlrSF        0.606332\n",
              "TotRmsAbvGrd    0.591826\n",
              "FullBath        0.559346\n",
              "YearBuilt       0.547325\n",
              "Name: SalePrice, dtype: float64"
            ]
          },
          "metadata": {},
          "execution_count": 187
        }
      ]
    },
    {
      "cell_type": "code",
      "source": [
        "#find correlations\n",
        "corr = numeric.corr()\n",
        "cols = corr['SalePrice'].sort_values(ascending=False)[0:5].index\n",
        "cols"
      ],
      "metadata": {
        "colab": {
          "base_uri": "https://localhost:8080/"
        },
        "id": "9C9j4cIUdwVx",
        "outputId": "cf88dcc8-f25b-4d92-df15-04c8b4666c7e"
      },
      "execution_count": 188,
      "outputs": [
        {
          "output_type": "execute_result",
          "data": {
            "text/plain": [
              "Index(['SalePrice', 'OverallQual', 'GrLivArea', 'GarageCars', 'GarageArea'], dtype='object')"
            ]
          },
          "metadata": {},
          "execution_count": 188
        }
      ]
    },
    {
      "cell_type": "code",
      "source": [
        "# pick out X cols and Y = SalesPrice\n",
        "X = train[cols]\n",
        "Y = train['SalePrice']\n",
        "X = X.drop(['SalePrice'], axis = 1)\n",
        "X"
      ],
      "metadata": {
        "colab": {
          "base_uri": "https://localhost:8080/",
          "height": 424
        },
        "id": "2R7Jsak1dwSZ",
        "outputId": "251907e5-f078-4a50-e3fd-58690b377e8d"
      },
      "execution_count": 189,
      "outputs": [
        {
          "output_type": "execute_result",
          "data": {
            "text/plain": [
              "     OverallQual  GrLivArea  GarageCars  GarageArea\n",
              "0              7       1710           2         548\n",
              "1              6       1262           2         460\n",
              "2              7       1786           2         608\n",
              "3              7       1717           3         642\n",
              "4              8       2198           3         836\n",
              "..           ...        ...         ...         ...\n",
              "455            7       1242           2         528\n",
              "456            5       1344           3         513\n",
              "457            4       1663           2         529\n",
              "458            8       1666           1         228\n",
              "459            5       1203           1         352\n",
              "\n",
              "[460 rows x 4 columns]"
            ],
            "text/html": [
              "\n",
              "  <div id=\"df-2b44f7e9-88f4-48f7-9bcf-15c1e9308f87\">\n",
              "    <div class=\"colab-df-container\">\n",
              "      <div>\n",
              "<style scoped>\n",
              "    .dataframe tbody tr th:only-of-type {\n",
              "        vertical-align: middle;\n",
              "    }\n",
              "\n",
              "    .dataframe tbody tr th {\n",
              "        vertical-align: top;\n",
              "    }\n",
              "\n",
              "    .dataframe thead th {\n",
              "        text-align: right;\n",
              "    }\n",
              "</style>\n",
              "<table border=\"1\" class=\"dataframe\">\n",
              "  <thead>\n",
              "    <tr style=\"text-align: right;\">\n",
              "      <th></th>\n",
              "      <th>OverallQual</th>\n",
              "      <th>GrLivArea</th>\n",
              "      <th>GarageCars</th>\n",
              "      <th>GarageArea</th>\n",
              "    </tr>\n",
              "  </thead>\n",
              "  <tbody>\n",
              "    <tr>\n",
              "      <th>0</th>\n",
              "      <td>7</td>\n",
              "      <td>1710</td>\n",
              "      <td>2</td>\n",
              "      <td>548</td>\n",
              "    </tr>\n",
              "    <tr>\n",
              "      <th>1</th>\n",
              "      <td>6</td>\n",
              "      <td>1262</td>\n",
              "      <td>2</td>\n",
              "      <td>460</td>\n",
              "    </tr>\n",
              "    <tr>\n",
              "      <th>2</th>\n",
              "      <td>7</td>\n",
              "      <td>1786</td>\n",
              "      <td>2</td>\n",
              "      <td>608</td>\n",
              "    </tr>\n",
              "    <tr>\n",
              "      <th>3</th>\n",
              "      <td>7</td>\n",
              "      <td>1717</td>\n",
              "      <td>3</td>\n",
              "      <td>642</td>\n",
              "    </tr>\n",
              "    <tr>\n",
              "      <th>4</th>\n",
              "      <td>8</td>\n",
              "      <td>2198</td>\n",
              "      <td>3</td>\n",
              "      <td>836</td>\n",
              "    </tr>\n",
              "    <tr>\n",
              "      <th>...</th>\n",
              "      <td>...</td>\n",
              "      <td>...</td>\n",
              "      <td>...</td>\n",
              "      <td>...</td>\n",
              "    </tr>\n",
              "    <tr>\n",
              "      <th>455</th>\n",
              "      <td>7</td>\n",
              "      <td>1242</td>\n",
              "      <td>2</td>\n",
              "      <td>528</td>\n",
              "    </tr>\n",
              "    <tr>\n",
              "      <th>456</th>\n",
              "      <td>5</td>\n",
              "      <td>1344</td>\n",
              "      <td>3</td>\n",
              "      <td>513</td>\n",
              "    </tr>\n",
              "    <tr>\n",
              "      <th>457</th>\n",
              "      <td>4</td>\n",
              "      <td>1663</td>\n",
              "      <td>2</td>\n",
              "      <td>529</td>\n",
              "    </tr>\n",
              "    <tr>\n",
              "      <th>458</th>\n",
              "      <td>8</td>\n",
              "      <td>1666</td>\n",
              "      <td>1</td>\n",
              "      <td>228</td>\n",
              "    </tr>\n",
              "    <tr>\n",
              "      <th>459</th>\n",
              "      <td>5</td>\n",
              "      <td>1203</td>\n",
              "      <td>1</td>\n",
              "      <td>352</td>\n",
              "    </tr>\n",
              "  </tbody>\n",
              "</table>\n",
              "<p>460 rows × 4 columns</p>\n",
              "</div>\n",
              "      <button class=\"colab-df-convert\" onclick=\"convertToInteractive('df-2b44f7e9-88f4-48f7-9bcf-15c1e9308f87')\"\n",
              "              title=\"Convert this dataframe to an interactive table.\"\n",
              "              style=\"display:none;\">\n",
              "        \n",
              "  <svg xmlns=\"http://www.w3.org/2000/svg\" height=\"24px\"viewBox=\"0 0 24 24\"\n",
              "       width=\"24px\">\n",
              "    <path d=\"M0 0h24v24H0V0z\" fill=\"none\"/>\n",
              "    <path d=\"M18.56 5.44l.94 2.06.94-2.06 2.06-.94-2.06-.94-.94-2.06-.94 2.06-2.06.94zm-11 1L8.5 8.5l.94-2.06 2.06-.94-2.06-.94L8.5 2.5l-.94 2.06-2.06.94zm10 10l.94 2.06.94-2.06 2.06-.94-2.06-.94-.94-2.06-.94 2.06-2.06.94z\"/><path d=\"M17.41 7.96l-1.37-1.37c-.4-.4-.92-.59-1.43-.59-.52 0-1.04.2-1.43.59L10.3 9.45l-7.72 7.72c-.78.78-.78 2.05 0 2.83L4 21.41c.39.39.9.59 1.41.59.51 0 1.02-.2 1.41-.59l7.78-7.78 2.81-2.81c.8-.78.8-2.07 0-2.86zM5.41 20L4 18.59l7.72-7.72 1.47 1.35L5.41 20z\"/>\n",
              "  </svg>\n",
              "      </button>\n",
              "      \n",
              "  <style>\n",
              "    .colab-df-container {\n",
              "      display:flex;\n",
              "      flex-wrap:wrap;\n",
              "      gap: 12px;\n",
              "    }\n",
              "\n",
              "    .colab-df-convert {\n",
              "      background-color: #E8F0FE;\n",
              "      border: none;\n",
              "      border-radius: 50%;\n",
              "      cursor: pointer;\n",
              "      display: none;\n",
              "      fill: #1967D2;\n",
              "      height: 32px;\n",
              "      padding: 0 0 0 0;\n",
              "      width: 32px;\n",
              "    }\n",
              "\n",
              "    .colab-df-convert:hover {\n",
              "      background-color: #E2EBFA;\n",
              "      box-shadow: 0px 1px 2px rgba(60, 64, 67, 0.3), 0px 1px 3px 1px rgba(60, 64, 67, 0.15);\n",
              "      fill: #174EA6;\n",
              "    }\n",
              "\n",
              "    [theme=dark] .colab-df-convert {\n",
              "      background-color: #3B4455;\n",
              "      fill: #D2E3FC;\n",
              "    }\n",
              "\n",
              "    [theme=dark] .colab-df-convert:hover {\n",
              "      background-color: #434B5C;\n",
              "      box-shadow: 0px 1px 3px 1px rgba(0, 0, 0, 0.15);\n",
              "      filter: drop-shadow(0px 1px 2px rgba(0, 0, 0, 0.3));\n",
              "      fill: #FFFFFF;\n",
              "    }\n",
              "  </style>\n",
              "\n",
              "      <script>\n",
              "        const buttonEl =\n",
              "          document.querySelector('#df-2b44f7e9-88f4-48f7-9bcf-15c1e9308f87 button.colab-df-convert');\n",
              "        buttonEl.style.display =\n",
              "          google.colab.kernel.accessAllowed ? 'block' : 'none';\n",
              "\n",
              "        async function convertToInteractive(key) {\n",
              "          const element = document.querySelector('#df-2b44f7e9-88f4-48f7-9bcf-15c1e9308f87');\n",
              "          const dataTable =\n",
              "            await google.colab.kernel.invokeFunction('convertToInteractive',\n",
              "                                                     [key], {});\n",
              "          if (!dataTable) return;\n",
              "\n",
              "          const docLinkHtml = 'Like what you see? Visit the ' +\n",
              "            '<a target=\"_blank\" href=https://colab.research.google.com/notebooks/data_table.ipynb>data table notebook</a>'\n",
              "            + ' to learn more about interactive tables.';\n",
              "          element.innerHTML = '';\n",
              "          dataTable['output_type'] = 'display_data';\n",
              "          await google.colab.output.renderOutput(dataTable, element);\n",
              "          const docLink = document.createElement('div');\n",
              "          docLink.innerHTML = docLinkHtml;\n",
              "          element.appendChild(docLink);\n",
              "        }\n",
              "      </script>\n",
              "    </div>\n",
              "  </div>\n",
              "  "
            ]
          },
          "metadata": {},
          "execution_count": 189
        }
      ]
    },
    {
      "cell_type": "code",
      "source": [
        "#build linear regression model\n",
        "from sklearn import linear_model\n",
        "lr = linear_model.LinearRegression()\n",
        "model = lr.fit(X,Y)\n",
        "predictions = model.predict(X)"
      ],
      "metadata": {
        "id": "oDw9bSJCdwJI"
      },
      "execution_count": 190,
      "outputs": []
    },
    {
      "cell_type": "code",
      "source": [
        "#how good the model is\n",
        "model.score(X,Y)"
      ],
      "metadata": {
        "colab": {
          "base_uri": "https://localhost:8080/"
        },
        "id": "35KZfnayj8sM",
        "outputId": "be5fdf61-9bd8-4412-8d8c-14b61626e138"
      },
      "execution_count": 191,
      "outputs": [
        {
          "output_type": "execute_result",
          "data": {
            "text/plain": [
              "0.7866011667961209"
            ]
          },
          "metadata": {},
          "execution_count": 191
        }
      ]
    },
    {
      "cell_type": "code",
      "source": [
        "#Scatter plot of predictions\n",
        "plt.scatter(predictions, Y)"
      ],
      "metadata": {
        "colab": {
          "base_uri": "https://localhost:8080/",
          "height": 282
        },
        "id": "BYWhsZ1Gj8pH",
        "outputId": "d75e85e0-697e-4807-bfe5-26598731fc47"
      },
      "execution_count": 192,
      "outputs": [
        {
          "output_type": "execute_result",
          "data": {
            "text/plain": [
              "<matplotlib.collections.PathCollection at 0x7f73e2c3a490>"
            ]
          },
          "metadata": {},
          "execution_count": 192
        },
        {
          "output_type": "display_data",
          "data": {
            "text/plain": [
              "<Figure size 432x288 with 1 Axes>"
            ],
            "image/png": "[encoded data removed]"
          },
          "metadata": {
            "needs_background": "light"
          }
        }
      ]
    },
    {
      "cell_type": "code",
      "source": [
        "#Test3"
      ],
      "metadata": {
        "id": "nSMb0rg1j8lm"
      },
      "execution_count": 193,
      "outputs": []
    },
    {
      "cell_type": "code",
      "source": [
        "#correlation shape price\n",
        "corr = numeric.corr()\n",
        "cols = corr['SalePrice'].sort_values(ascending=False)[0:7]\n",
        "cols"
      ],
      "metadata": {
        "colab": {
          "base_uri": "https://localhost:8080/"
        },
        "id": "gE5o2b83kWpD",
        "outputId": "208345dd-111f-4419-ff17-87857cc655d5"
      },
      "execution_count": 194,
      "outputs": [
        {
          "output_type": "execute_result",
          "data": {
            "text/plain": [
              "SalePrice      1.000000\n",
              "OverallQual    0.805232\n",
              "GrLivArea      0.754494\n",
              "GarageCars     0.686074\n",
              "GarageArea     0.684000\n",
              "TotalBsmtSF    0.630316\n",
              "1stFlrSF       0.606332\n",
              "Name: SalePrice, dtype: float64"
            ]
          },
          "metadata": {},
          "execution_count": 194
        }
      ]
    },
    {
      "cell_type": "code",
      "source": [
        "#find correlations\n",
        "corr = numeric.corr()\n",
        "cols = corr['SalePrice'].sort_values(ascending=False)[0:4].index\n",
        "cols"
      ],
      "metadata": {
        "colab": {
          "base_uri": "https://localhost:8080/"
        },
        "id": "JO-RqgU4kWmb",
        "outputId": "c1a8ec13-d084-46ff-9312-19aa4fee0a22"
      },
      "execution_count": 195,
      "outputs": [
        {
          "output_type": "execute_result",
          "data": {
            "text/plain": [
              "Index(['SalePrice', 'OverallQual', 'GrLivArea', 'GarageCars'], dtype='object')"
            ]
          },
          "metadata": {},
          "execution_count": 195
        }
      ]
    },
    {
      "cell_type": "code",
      "source": [
        "# pick out X cols and Y = SalesPrice\n",
        "X = train[cols]\n",
        "Y = train['SalePrice']\n",
        "X = X.drop(['SalePrice'], axis = 1)\n",
        "X"
      ],
      "metadata": {
        "colab": {
          "base_uri": "https://localhost:8080/",
          "height": 424
        },
        "id": "Hp4NrrBNkWji",
        "outputId": "724cf409-5313-4b30-ec44-2b0574253676"
      },
      "execution_count": 196,
      "outputs": [
        {
          "output_type": "execute_result",
          "data": {
            "text/plain": [
              "     OverallQual  GrLivArea  GarageCars\n",
              "0              7       1710           2\n",
              "1              6       1262           2\n",
              "2              7       1786           2\n",
              "3              7       1717           3\n",
              "4              8       2198           3\n",
              "..           ...        ...         ...\n",
              "455            7       1242           2\n",
              "456            5       1344           3\n",
              "457            4       1663           2\n",
              "458            8       1666           1\n",
              "459            5       1203           1\n",
              "\n",
              "[460 rows x 3 columns]"
            ],
            "text/html": [
              "\n",
              "  <div id=\"df-ee7f99ce-7a4f-4005-81ae-578a0454eea9\">\n",
              "    <div class=\"colab-df-container\">\n",
              "      <div>\n",
              "<style scoped>\n",
              "    .dataframe tbody tr th:only-of-type {\n",
              "        vertical-align: middle;\n",
              "    }\n",
              "\n",
              "    .dataframe tbody tr th {\n",
              "        vertical-align: top;\n",
              "    }\n",
              "\n",
              "    .dataframe thead th {\n",
              "        text-align: right;\n",
              "    }\n",
              "</style>\n",
              "<table border=\"1\" class=\"dataframe\">\n",
              "  <thead>\n",
              "    <tr style=\"text-align: right;\">\n",
              "      <th></th>\n",
              "      <th>OverallQual</th>\n",
              "      <th>GrLivArea</th>\n",
              "      <th>GarageCars</th>\n",
              "    </tr>\n",
              "  </thead>\n",
              "  <tbody>\n",
              "    <tr>\n",
              "      <th>0</th>\n",
              "      <td>7</td>\n",
              "      <td>1710</td>\n",
              "      <td>2</td>\n",
              "    </tr>\n",
              "    <tr>\n",
              "      <th>1</th>\n",
              "      <td>6</td>\n",
              "      <td>1262</td>\n",
              "      <td>2</td>\n",
              "    </tr>\n",
              "    <tr>\n",
              "      <th>2</th>\n",
              "      <td>7</td>\n",
              "      <td>1786</td>\n",
              "      <td>2</td>\n",
              "    </tr>\n",
              "    <tr>\n",
              "      <th>3</th>\n",
              "      <td>7</td>\n",
              "      <td>1717</td>\n",
              "      <td>3</td>\n",
              "    </tr>\n",
              "    <tr>\n",
              "      <th>4</th>\n",
              "      <td>8</td>\n",
              "      <td>2198</td>\n",
              "      <td>3</td>\n",
              "    </tr>\n",
              "    <tr>\n",
              "      <th>...</th>\n",
              "      <td>...</td>\n",
              "      <td>...</td>\n",
              "      <td>...</td>\n",
              "    </tr>\n",
              "    <tr>\n",
              "      <th>455</th>\n",
              "      <td>7</td>\n",
              "      <td>1242</td>\n",
              "      <td>2</td>\n",
              "    </tr>\n",
              "    <tr>\n",
              "      <th>456</th>\n",
              "      <td>5</td>\n",
              "      <td>1344</td>\n",
              "      <td>3</td>\n",
              "    </tr>\n",
              "    <tr>\n",
              "      <th>457</th>\n",
              "      <td>4</td>\n",
              "      <td>1663</td>\n",
              "      <td>2</td>\n",
              "    </tr>\n",
              "    <tr>\n",
              "      <th>458</th>\n",
              "      <td>8</td>\n",
              "      <td>1666</td>\n",
              "      <td>1</td>\n",
              "    </tr>\n",
              "    <tr>\n",
              "      <th>459</th>\n",
              "      <td>5</td>\n",
              "      <td>1203</td>\n",
              "      <td>1</td>\n",
              "    </tr>\n",
              "  </tbody>\n",
              "</table>\n",
              "<p>460 rows × 3 columns</p>\n",
              "</div>\n",
              "      <button class=\"colab-df-convert\" onclick=\"convertToInteractive('df-ee7f99ce-7a4f-4005-81ae-578a0454eea9')\"\n",
              "              title=\"Convert this dataframe to an interactive table.\"\n",
              "              style=\"display:none;\">\n",
              "        \n",
              "  <svg xmlns=\"http://www.w3.org/2000/svg\" height=\"24px\"viewBox=\"0 0 24 24\"\n",
              "       width=\"24px\">\n",
              "    <path d=\"M0 0h24v24H0V0z\" fill=\"none\"/>\n",
              "    <path d=\"M18.56 5.44l.94 2.06.94-2.06 2.06-.94-2.06-.94-.94-2.06-.94 2.06-2.06.94zm-11 1L8.5 8.5l.94-2.06 2.06-.94-2.06-.94L8.5 2.5l-.94 2.06-2.06.94zm10 10l.94 2.06.94-2.06 2.06-.94-2.06-.94-.94-2.06-.94 2.06-2.06.94z\"/><path d=\"M17.41 7.96l-1.37-1.37c-.4-.4-.92-.59-1.43-.59-.52 0-1.04.2-1.43.59L10.3 9.45l-7.72 7.72c-.78.78-.78 2.05 0 2.83L4 21.41c.39.39.9.59 1.41.59.51 0 1.02-.2 1.41-.59l7.78-7.78 2.81-2.81c.8-.78.8-2.07 0-2.86zM5.41 20L4 18.59l7.72-7.72 1.47 1.35L5.41 20z\"/>\n",
              "  </svg>\n",
              "      </button>\n",
              "      \n",
              "  <style>\n",
              "    .colab-df-container {\n",
              "      display:flex;\n",
              "      flex-wrap:wrap;\n",
              "      gap: 12px;\n",
              "    }\n",
              "\n",
              "    .colab-df-convert {\n",
              "      background-color: #E8F0FE;\n",
              "      border: none;\n",
              "      border-radius: 50%;\n",
              "      cursor: pointer;\n",
              "      display: none;\n",
              "      fill: #1967D2;\n",
              "      height: 32px;\n",
              "      padding: 0 0 0 0;\n",
              "      width: 32px;\n",
              "    }\n",
              "\n",
              "    .colab-df-convert:hover {\n",
              "      background-color: #E2EBFA;\n",
              "      box-shadow: 0px 1px 2px rgba(60, 64, 67, 0.3), 0px 1px 3px 1px rgba(60, 64, 67, 0.15);\n",
              "      fill: #174EA6;\n",
              "    }\n",
              "\n",
              "    [theme=dark] .colab-df-convert {\n",
              "      background-color: #3B4455;\n",
              "      fill: #D2E3FC;\n",
              "    }\n",
              "\n",
              "    [theme=dark] .colab-df-convert:hover {\n",
              "      background-color: #434B5C;\n",
              "      box-shadow: 0px 1px 3px 1px rgba(0, 0, 0, 0.15);\n",
              "      filter: drop-shadow(0px 1px 2px rgba(0, 0, 0, 0.3));\n",
              "      fill: #FFFFFF;\n",
              "    }\n",
              "  </style>\n",
              "\n",
              "      <script>\n",
              "        const buttonEl =\n",
              "          document.querySelector('#df-ee7f99ce-7a4f-4005-81ae-578a0454eea9 button.colab-df-convert');\n",
              "        buttonEl.style.display =\n",
              "          google.colab.kernel.accessAllowed ? 'block' : 'none';\n",
              "\n",
              "        async function convertToInteractive(key) {\n",
              "          const element = document.querySelector('#df-ee7f99ce-7a4f-4005-81ae-578a0454eea9');\n",
              "          const dataTable =\n",
              "            await google.colab.kernel.invokeFunction('convertToInteractive',\n",
              "                                                     [key], {});\n",
              "          if (!dataTable) return;\n",
              "\n",
              "          const docLinkHtml = 'Like what you see? Visit the ' +\n",
              "            '<a target=\"_blank\" href=https://colab.research.google.com/notebooks/data_table.ipynb>data table notebook</a>'\n",
              "            + ' to learn more about interactive tables.';\n",
              "          element.innerHTML = '';\n",
              "          dataTable['output_type'] = 'display_data';\n",
              "          await google.colab.output.renderOutput(dataTable, element);\n",
              "          const docLink = document.createElement('div');\n",
              "          docLink.innerHTML = docLinkHtml;\n",
              "          element.appendChild(docLink);\n",
              "        }\n",
              "      </script>\n",
              "    </div>\n",
              "  </div>\n",
              "  "
            ]
          },
          "metadata": {},
          "execution_count": 196
        }
      ]
    },
    {
      "cell_type": "code",
      "source": [
        "#build linear regression model\n",
        "from sklearn import linear_model\n",
        "lr = linear_model.LinearRegression()\n",
        "model = lr.fit(X,Y)\n",
        "predictions = model.predict(X)"
      ],
      "metadata": {
        "id": "ClQggtupkWgh"
      },
      "execution_count": 197,
      "outputs": []
    },
    {
      "cell_type": "code",
      "source": [
        "#how good the model is\n",
        "model.score(X,Y)"
      ],
      "metadata": {
        "colab": {
          "base_uri": "https://localhost:8080/"
        },
        "id": "-BXmYE5hkWdu",
        "outputId": "ced87bfb-ff81-4f82-ceec-fa8678f01138"
      },
      "execution_count": 198,
      "outputs": [
        {
          "output_type": "execute_result",
          "data": {
            "text/plain": [
              "0.7789002229353486"
            ]
          },
          "metadata": {},
          "execution_count": 198
        }
      ]
    },
    {
      "cell_type": "code",
      "source": [
        "#Scatter plot of predictions\n",
        "plt.scatter(predictions, Y)"
      ],
      "metadata": {
        "colab": {
          "base_uri": "https://localhost:8080/",
          "height": 282
        },
        "id": "ovf69dFxkWaM",
        "outputId": "8a3f1546-9eb4-4728-df73-16a5402080fe"
      },
      "execution_count": 199,
      "outputs": [
        {
          "output_type": "execute_result",
          "data": {
            "text/plain": [
              "<matplotlib.collections.PathCollection at 0x7f73e2c25ad0>"
            ]
          },
          "metadata": {},
          "execution_count": 199
        },
        {
          "output_type": "display_data",
          "data": {
            "text/plain": [
              "<Figure size 432x288 with 1 Axes>"
            ],
            "image/png": "[encoded data removed]"
          },
          "metadata": {
            "needs_background": "light"
          }
        }
      ]
    },
    {
      "cell_type": "code",
      "source": [
        "#test4"
      ],
      "metadata": {
        "id": "deSUy9VdkWXR"
      },
      "execution_count": 200,
      "outputs": []
    },
    {
      "cell_type": "code",
      "source": [
        "#correlation shape price\n",
        "corr = numeric.corr()\n",
        "cols = corr['SalePrice'].sort_values(ascending=False)[0:20]\n",
        "cols"
      ],
      "metadata": {
        "colab": {
          "base_uri": "https://localhost:8080/"
        },
        "id": "HrbCxE5LkWUO",
        "outputId": "09089fc3-c295-437a-df5b-7598ffaa7961"
      },
      "execution_count": 201,
      "outputs": [
        {
          "output_type": "execute_result",
          "data": {
            "text/plain": [
              "SalePrice       1.000000\n",
              "OverallQual     0.805232\n",
              "GrLivArea       0.754494\n",
              "GarageCars      0.686074\n",
              "GarageArea      0.684000\n",
              "TotalBsmtSF     0.630316\n",
              "1stFlrSF        0.606332\n",
              "TotRmsAbvGrd    0.591826\n",
              "FullBath        0.559346\n",
              "YearBuilt       0.547325\n",
              "YearRemodAdd    0.532846\n",
              "GarageYrBlt     0.513347\n",
              "Fireplaces      0.487948\n",
              "MasVnrArea      0.439313\n",
              "LotFrontage     0.416858\n",
              "BsmtFinSF1      0.396058\n",
              "OpenPorchSF     0.382301\n",
              "2ndFlrSF        0.348605\n",
              "HalfBath        0.297251\n",
              "WoodDeckSF      0.288442\n",
              "Name: SalePrice, dtype: float64"
            ]
          },
          "metadata": {},
          "execution_count": 201
        }
      ]
    },
    {
      "cell_type": "code",
      "source": [
        "#find correlations\n",
        "corr = numeric.corr()\n",
        "cols = corr['SalePrice'].sort_values(ascending=False)[0:10].index\n",
        "cols"
      ],
      "metadata": {
        "colab": {
          "base_uri": "https://localhost:8080/"
        },
        "id": "Xo8kXaDLkWRF",
        "outputId": "f7fb872f-91ff-4792-f0b4-6fc1c0553917"
      },
      "execution_count": 202,
      "outputs": [
        {
          "output_type": "execute_result",
          "data": {
            "text/plain": [
              "Index(['SalePrice', 'OverallQual', 'GrLivArea', 'GarageCars', 'GarageArea',\n",
              "       'TotalBsmtSF', '1stFlrSF', 'TotRmsAbvGrd', 'FullBath', 'YearBuilt'],\n",
              "      dtype='object')"
            ]
          },
          "metadata": {},
          "execution_count": 202
        }
      ]
    },
    {
      "cell_type": "code",
      "source": [
        "# pick out X cols and Y = SalesPrice\n",
        "X = train[cols]\n",
        "Y = train['SalePrice']\n",
        "X = X.drop(['SalePrice'], axis = 1)\n",
        "X"
      ],
      "metadata": {
        "colab": {
          "base_uri": "https://localhost:8080/",
          "height": 468
        },
        "id": "TnDciHfskWOJ",
        "outputId": "4f0b598e-1f4c-4d24-8c63-29dc2a7921de"
      },
      "execution_count": 203,
      "outputs": [
        {
          "output_type": "execute_result",
          "data": {
            "text/plain": [
              "     OverallQual  GrLivArea  GarageCars  GarageArea  TotalBsmtSF  1stFlrSF  \\\n",
              "0              7       1710           2         548          856       856   \n",
              "1              6       1262           2         460         1262      1262   \n",
              "2              7       1786           2         608          920       920   \n",
              "3              7       1717           3         642          756       961   \n",
              "4              8       2198           3         836         1145      1145   \n",
              "..           ...        ...         ...         ...          ...       ...   \n",
              "455            7       1242           2         528         1242      1242   \n",
              "456            5       1344           3         513          624       624   \n",
              "457            4       1663           2         529         1364      1663   \n",
              "458            8       1666           1         228          588       833   \n",
              "459            5       1203           1         352          709       979   \n",
              "\n",
              "     TotRmsAbvGrd  FullBath  YearBuilt  \n",
              "0               8         2       2003  \n",
              "1               6         2       1976  \n",
              "2               6         2       2001  \n",
              "3               7         1       1915  \n",
              "4               9         2       2000  \n",
              "..            ...       ...        ...  \n",
              "455             6         1       1973  \n",
              "456             7         1       1916  \n",
              "457             6         1       1954  \n",
              "458             7         1       1925  \n",
              "459             5         1       1950  \n",
              "\n",
              "[460 rows x 9 columns]"
            ],
            "text/html": [
              "\n",
              "  <div id=\"df-5cc1bc55-1e42-405b-b246-625094b02531\">\n",
              "    <div class=\"colab-df-container\">\n",
              "      <div>\n",
              "<style scoped>\n",
              "    .dataframe tbody tr th:only-of-type {\n",
              "        vertical-align: middle;\n",
              "    }\n",
              "\n",
              "    .dataframe tbody tr th {\n",
              "        vertical-align: top;\n",
              "    }\n",
              "\n",
              "    .dataframe thead th {\n",
              "        text-align: right;\n",
              "    }\n",
              "</style>\n",
              "<table border=\"1\" class=\"dataframe\">\n",
              "  <thead>\n",
              "    <tr style=\"text-align: right;\">\n",
              "      <th></th>\n",
              "      <th>OverallQual</th>\n",
              "      <th>GrLivArea</th>\n",
              "      <th>GarageCars</th>\n",
              "      <th>GarageArea</th>\n",
              "      <th>TotalBsmtSF</th>\n",
              "      <th>1stFlrSF</th>\n",
              "      <th>TotRmsAbvGrd</th>\n",
              "      <th>FullBath</th>\n",
              "      <th>YearBuilt</th>\n",
              "    </tr>\n",
              "  </thead>\n",
              "  <tbody>\n",
              "    <tr>\n",
              "      <th>0</th>\n",
              "      <td>7</td>\n",
              "      <td>1710</td>\n",
              "      <td>2</td>\n",
              "      <td>548</td>\n",
              "      <td>856</td>\n",
              "      <td>856</td>\n",
              "      <td>8</td>\n",
              "      <td>2</td>\n",
              "      <td>2003</td>\n",
              "    </tr>\n",
              "    <tr>\n",
              "      <th>1</th>\n",
              "      <td>6</td>\n",
              "      <td>1262</td>\n",
              "      <td>2</td>\n",
              "      <td>460</td>\n",
              "      <td>1262</td>\n",
              "      <td>1262</td>\n",
              "      <td>6</td>\n",
              "      <td>2</td>\n",
              "      <td>1976</td>\n",
              "    </tr>\n",
              "    <tr>\n",
              "      <th>2</th>\n",
              "      <td>7</td>\n",
              "      <td>1786</td>\n",
              "      <td>2</td>\n",
              "      <td>608</td>\n",
              "      <td>920</td>\n",
              "      <td>920</td>\n",
              "      <td>6</td>\n",
              "      <td>2</td>\n",
              "      <td>2001</td>\n",
              "    </tr>\n",
              "    <tr>\n",
              "      <th>3</th>\n",
              "      <td>7</td>\n",
              "      <td>1717</td>\n",
              "      <td>3</td>\n",
              "      <td>642</td>\n",
              "      <td>756</td>\n",
              "      <td>961</td>\n",
              "      <td>7</td>\n",
              "      <td>1</td>\n",
              "      <td>1915</td>\n",
              "    </tr>\n",
              "    <tr>\n",
              "      <th>4</th>\n",
              "      <td>8</td>\n",
              "      <td>2198</td>\n",
              "      <td>3</td>\n",
              "      <td>836</td>\n",
              "      <td>1145</td>\n",
              "      <td>1145</td>\n",
              "      <td>9</td>\n",
              "      <td>2</td>\n",
              "      <td>2000</td>\n",
              "    </tr>\n",
              "    <tr>\n",
              "      <th>...</th>\n",
              "      <td>...</td>\n",
              "      <td>...</td>\n",
              "      <td>...</td>\n",
              "      <td>...</td>\n",
              "      <td>...</td>\n",
              "      <td>...</td>\n",
              "      <td>...</td>\n",
              "      <td>...</td>\n",
              "      <td>...</td>\n",
              "    </tr>\n",
              "    <tr>\n",
              "      <th>455</th>\n",
              "      <td>7</td>\n",
              "      <td>1242</td>\n",
              "      <td>2</td>\n",
              "      <td>528</td>\n",
              "      <td>1242</td>\n",
              "      <td>1242</td>\n",
              "      <td>6</td>\n",
              "      <td>1</td>\n",
              "      <td>1973</td>\n",
              "    </tr>\n",
              "    <tr>\n",
              "      <th>456</th>\n",
              "      <td>5</td>\n",
              "      <td>1344</td>\n",
              "      <td>3</td>\n",
              "      <td>513</td>\n",
              "      <td>624</td>\n",
              "      <td>624</td>\n",
              "      <td>7</td>\n",
              "      <td>1</td>\n",
              "      <td>1916</td>\n",
              "    </tr>\n",
              "    <tr>\n",
              "      <th>457</th>\n",
              "      <td>4</td>\n",
              "      <td>1663</td>\n",
              "      <td>2</td>\n",
              "      <td>529</td>\n",
              "      <td>1364</td>\n",
              "      <td>1663</td>\n",
              "      <td>6</td>\n",
              "      <td>1</td>\n",
              "      <td>1954</td>\n",
              "    </tr>\n",
              "    <tr>\n",
              "      <th>458</th>\n",
              "      <td>8</td>\n",
              "      <td>1666</td>\n",
              "      <td>1</td>\n",
              "      <td>228</td>\n",
              "      <td>588</td>\n",
              "      <td>833</td>\n",
              "      <td>7</td>\n",
              "      <td>1</td>\n",
              "      <td>1925</td>\n",
              "    </tr>\n",
              "    <tr>\n",
              "      <th>459</th>\n",
              "      <td>5</td>\n",
              "      <td>1203</td>\n",
              "      <td>1</td>\n",
              "      <td>352</td>\n",
              "      <td>709</td>\n",
              "      <td>979</td>\n",
              "      <td>5</td>\n",
              "      <td>1</td>\n",
              "      <td>1950</td>\n",
              "    </tr>\n",
              "  </tbody>\n",
              "</table>\n",
              "<p>460 rows × 9 columns</p>\n",
              "</div>\n",
              "      <button class=\"colab-df-convert\" onclick=\"convertToInteractive('df-5cc1bc55-1e42-405b-b246-625094b02531')\"\n",
              "              title=\"Convert this dataframe to an interactive table.\"\n",
              "              style=\"display:none;\">\n",
              "        \n",
              "  <svg xmlns=\"http://www.w3.org/2000/svg\" height=\"24px\"viewBox=\"0 0 24 24\"\n",
              "       width=\"24px\">\n",
              "    <path d=\"M0 0h24v24H0V0z\" fill=\"none\"/>\n",
              "    <path d=\"M18.56 5.44l.94 2.06.94-2.06 2.06-.94-2.06-.94-.94-2.06-.94 2.06-2.06.94zm-11 1L8.5 8.5l.94-2.06 2.06-.94-2.06-.94L8.5 2.5l-.94 2.06-2.06.94zm10 10l.94 2.06.94-2.06 2.06-.94-2.06-.94-.94-2.06-.94 2.06-2.06.94z\"/><path d=\"M17.41 7.96l-1.37-1.37c-.4-.4-.92-.59-1.43-.59-.52 0-1.04.2-1.43.59L10.3 9.45l-7.72 7.72c-.78.78-.78 2.05 0 2.83L4 21.41c.39.39.9.59 1.41.59.51 0 1.02-.2 1.41-.59l7.78-7.78 2.81-2.81c.8-.78.8-2.07 0-2.86zM5.41 20L4 18.59l7.72-7.72 1.47 1.35L5.41 20z\"/>\n",
              "  </svg>\n",
              "      </button>\n",
              "      \n",
              "  <style>\n",
              "    .colab-df-container {\n",
              "      display:flex;\n",
              "      flex-wrap:wrap;\n",
              "      gap: 12px;\n",
              "    }\n",
              "\n",
              "    .colab-df-convert {\n",
              "      background-color: #E8F0FE;\n",
              "      border: none;\n",
              "      border-radius: 50%;\n",
              "      cursor: pointer;\n",
              "      display: none;\n",
              "      fill: #1967D2;\n",
              "      height: 32px;\n",
              "      padding: 0 0 0 0;\n",
              "      width: 32px;\n",
              "    }\n",
              "\n",
              "    .colab-df-convert:hover {\n",
              "      background-color: #E2EBFA;\n",
              "      box-shadow: 0px 1px 2px rgba(60, 64, 67, 0.3), 0px 1px 3px 1px rgba(60, 64, 67, 0.15);\n",
              "      fill: #174EA6;\n",
              "    }\n",
              "\n",
              "    [theme=dark] .colab-df-convert {\n",
              "      background-color: #3B4455;\n",
              "      fill: #D2E3FC;\n",
              "    }\n",
              "\n",
              "    [theme=dark] .colab-df-convert:hover {\n",
              "      background-color: #434B5C;\n",
              "      box-shadow: 0px 1px 3px 1px rgba(0, 0, 0, 0.15);\n",
              "      filter: drop-shadow(0px 1px 2px rgba(0, 0, 0, 0.3));\n",
              "      fill: #FFFFFF;\n",
              "    }\n",
              "  </style>\n",
              "\n",
              "      <script>\n",
              "        const buttonEl =\n",
              "          document.querySelector('#df-5cc1bc55-1e42-405b-b246-625094b02531 button.colab-df-convert');\n",
              "        buttonEl.style.display =\n",
              "          google.colab.kernel.accessAllowed ? 'block' : 'none';\n",
              "\n",
              "        async function convertToInteractive(key) {\n",
              "          const element = document.querySelector('#df-5cc1bc55-1e42-405b-b246-625094b02531');\n",
              "          const dataTable =\n",
              "            await google.colab.kernel.invokeFunction('convertToInteractive',\n",
              "                                                     [key], {});\n",
              "          if (!dataTable) return;\n",
              "\n",
              "          const docLinkHtml = 'Like what you see? Visit the ' +\n",
              "            '<a target=\"_blank\" href=https://colab.research.google.com/notebooks/data_table.ipynb>data table notebook</a>'\n",
              "            + ' to learn more about interactive tables.';\n",
              "          element.innerHTML = '';\n",
              "          dataTable['output_type'] = 'display_data';\n",
              "          await google.colab.output.renderOutput(dataTable, element);\n",
              "          const docLink = document.createElement('div');\n",
              "          docLink.innerHTML = docLinkHtml;\n",
              "          element.appendChild(docLink);\n",
              "        }\n",
              "      </script>\n",
              "    </div>\n",
              "  </div>\n",
              "  "
            ]
          },
          "metadata": {},
          "execution_count": 203
        }
      ]
    },
    {
      "cell_type": "code",
      "source": [
        "#build linear regression model\n",
        "from sklearn import linear_model\n",
        "lr = linear_model.LinearRegression()\n",
        "model = lr.fit(X,Y)\n",
        "predictions = model.predict(X)"
      ],
      "metadata": {
        "id": "PrADyYdlkWLm"
      },
      "execution_count": 204,
      "outputs": []
    },
    {
      "cell_type": "code",
      "source": [],
      "metadata": {
        "id": "jh60Oxe7rLoO"
      },
      "execution_count": 204,
      "outputs": []
    },
    {
      "cell_type": "code",
      "source": [
        "#how good the model is\n",
        "model.score(X,Y)"
      ],
      "metadata": {
        "colab": {
          "base_uri": "https://localhost:8080/"
        },
        "id": "0Zcut0FDkWIx",
        "outputId": "6ca64e66-eda6-499e-a399-62402aa427ef"
      },
      "execution_count": 205,
      "outputs": [
        {
          "output_type": "execute_result",
          "data": {
            "text/plain": [
              "0.83657512433703"
            ]
          },
          "metadata": {},
          "execution_count": 205
        }
      ]
    },
    {
      "cell_type": "code",
      "source": [
        "#Scatter plot of predictions\n",
        "plt.scatter(predictions, Y)"
      ],
      "metadata": {
        "colab": {
          "base_uri": "https://localhost:8080/",
          "height": 282
        },
        "id": "ZSt9pNhZj8iS",
        "outputId": "990dd879-42d8-4f66-a4bb-d6131cd8528e"
      },
      "execution_count": 206,
      "outputs": [
        {
          "output_type": "execute_result",
          "data": {
            "text/plain": [
              "<matplotlib.collections.PathCollection at 0x7f73e2b8e1d0>"
            ]
          },
          "metadata": {},
          "execution_count": 206
        },
        {
          "output_type": "display_data",
          "data": {
            "text/plain": [
              "<Figure size 432x288 with 1 Axes>"
            ],
            "image/png": "[encoded data removed]"
          },
          "metadata": {
            "needs_background": "light"
          }
        }
      ]
    },
    {
      "cell_type": "code",
      "source": [
        "#Test5"
      ],
      "metadata": {
        "id": "niPOLaOfk3UM"
      },
      "execution_count": 207,
      "outputs": []
    },
    {
      "cell_type": "code",
      "source": [
        "#correlation shape price\n",
        "corr = numeric.corr()\n",
        "cols = corr['SalePrice'].sort_values(ascending=False)[0:25]\n",
        "cols"
      ],
      "metadata": {
        "colab": {
          "base_uri": "https://localhost:8080/"
        },
        "id": "aegUgGpTlPWd",
        "outputId": "36af9c7e-d949-48bf-9ac7-7470d35d9007"
      },
      "execution_count": 208,
      "outputs": [
        {
          "output_type": "execute_result",
          "data": {
            "text/plain": [
              "SalePrice       1.000000\n",
              "OverallQual     0.805232\n",
              "GrLivArea       0.754494\n",
              "GarageCars      0.686074\n",
              "GarageArea      0.684000\n",
              "TotalBsmtSF     0.630316\n",
              "1stFlrSF        0.606332\n",
              "TotRmsAbvGrd    0.591826\n",
              "FullBath        0.559346\n",
              "YearBuilt       0.547325\n",
              "YearRemodAdd    0.532846\n",
              "GarageYrBlt     0.513347\n",
              "Fireplaces      0.487948\n",
              "MasVnrArea      0.439313\n",
              "LotFrontage     0.416858\n",
              "BsmtFinSF1      0.396058\n",
              "OpenPorchSF     0.382301\n",
              "2ndFlrSF        0.348605\n",
              "HalfBath        0.297251\n",
              "WoodDeckSF      0.288442\n",
              "BsmtFullBath    0.276089\n",
              "LotArea         0.264032\n",
              "ScreenPorch     0.195562\n",
              "BsmtUnfSF       0.186644\n",
              "BedroomAbvGr    0.167278\n",
              "Name: SalePrice, dtype: float64"
            ]
          },
          "metadata": {},
          "execution_count": 208
        }
      ]
    },
    {
      "cell_type": "code",
      "source": [
        "#find correlations\n",
        "corr = numeric.corr()\n",
        "cols = corr['SalePrice'].sort_values(ascending=False)[0:10].index\n",
        "cols"
      ],
      "metadata": {
        "colab": {
          "base_uri": "https://localhost:8080/"
        },
        "id": "7Mi6Vfo7lPT3",
        "outputId": "e8cb8837-faab-4c39-cd00-a0d2b75b385c"
      },
      "execution_count": 209,
      "outputs": [
        {
          "output_type": "execute_result",
          "data": {
            "text/plain": [
              "Index(['SalePrice', 'OverallQual', 'GrLivArea', 'GarageCars', 'GarageArea',\n",
              "       'TotalBsmtSF', '1stFlrSF', 'TotRmsAbvGrd', 'FullBath', 'YearBuilt'],\n",
              "      dtype='object')"
            ]
          },
          "metadata": {},
          "execution_count": 209
        }
      ]
    },
    {
      "cell_type": "code",
      "source": [
        "# pick out X cols and Y = SalesPrice\n",
        "X = train[cols]\n",
        "Y = train['SalePrice']\n",
        "X = X.drop(['SalePrice'], axis = 1)\n",
        "X"
      ],
      "metadata": {
        "colab": {
          "base_uri": "https://localhost:8080/",
          "height": 468
        },
        "id": "Vz6ovwr1lPQ6",
        "outputId": "be5b4832-c79c-4e5f-9094-494f3ae7e0bf"
      },
      "execution_count": 210,
      "outputs": [
        {
          "output_type": "execute_result",
          "data": {
            "text/plain": [
              "     OverallQual  GrLivArea  GarageCars  GarageArea  TotalBsmtSF  1stFlrSF  \\\n",
              "0              7       1710           2         548          856       856   \n",
              "1              6       1262           2         460         1262      1262   \n",
              "2              7       1786           2         608          920       920   \n",
              "3              7       1717           3         642          756       961   \n",
              "4              8       2198           3         836         1145      1145   \n",
              "..           ...        ...         ...         ...          ...       ...   \n",
              "455            7       1242           2         528         1242      1242   \n",
              "456            5       1344           3         513          624       624   \n",
              "457            4       1663           2         529         1364      1663   \n",
              "458            8       1666           1         228          588       833   \n",
              "459            5       1203           1         352          709       979   \n",
              "\n",
              "     TotRmsAbvGrd  FullBath  YearBuilt  \n",
              "0               8         2       2003  \n",
              "1               6         2       1976  \n",
              "2               6         2       2001  \n",
              "3               7         1       1915  \n",
              "4               9         2       2000  \n",
              "..            ...       ...        ...  \n",
              "455             6         1       1973  \n",
              "456             7         1       1916  \n",
              "457             6         1       1954  \n",
              "458             7         1       1925  \n",
              "459             5         1       1950  \n",
              "\n",
              "[460 rows x 9 columns]"
            ],
            "text/html": [
              "\n",
              "  <div id=\"df-7fa3cbce-f491-4db3-ae23-ac063f7fb362\">\n",
              "    <div class=\"colab-df-container\">\n",
              "      <div>\n",
              "<style scoped>\n",
              "    .dataframe tbody tr th:only-of-type {\n",
              "        vertical-align: middle;\n",
              "    }\n",
              "\n",
              "    .dataframe tbody tr th {\n",
              "        vertical-align: top;\n",
              "    }\n",
              "\n",
              "    .dataframe thead th {\n",
              "        text-align: right;\n",
              "    }\n",
              "</style>\n",
              "<table border=\"1\" class=\"dataframe\">\n",
              "  <thead>\n",
              "    <tr style=\"text-align: right;\">\n",
              "      <th></th>\n",
              "      <th>OverallQual</th>\n",
              "      <th>GrLivArea</th>\n",
              "      <th>GarageCars</th>\n",
              "      <th>GarageArea</th>\n",
              "      <th>TotalBsmtSF</th>\n",
              "      <th>1stFlrSF</th>\n",
              "      <th>TotRmsAbvGrd</th>\n",
              "      <th>FullBath</th>\n",
              "      <th>YearBuilt</th>\n",
              "    </tr>\n",
              "  </thead>\n",
              "  <tbody>\n",
              "    <tr>\n",
              "      <th>0</th>\n",
              "      <td>7</td>\n",
              "      <td>1710</td>\n",
              "      <td>2</td>\n",
              "      <td>548</td>\n",
              "      <td>856</td>\n",
              "      <td>856</td>\n",
              "      <td>8</td>\n",
              "      <td>2</td>\n",
              "      <td>2003</td>\n",
              "    </tr>\n",
              "    <tr>\n",
              "      <th>1</th>\n",
              "      <td>6</td>\n",
              "      <td>1262</td>\n",
              "      <td>2</td>\n",
              "      <td>460</td>\n",
              "      <td>1262</td>\n",
              "      <td>1262</td>\n",
              "      <td>6</td>\n",
              "      <td>2</td>\n",
              "      <td>1976</td>\n",
              "    </tr>\n",
              "    <tr>\n",
              "      <th>2</th>\n",
              "      <td>7</td>\n",
              "      <td>1786</td>\n",
              "      <td>2</td>\n",
              "      <td>608</td>\n",
              "      <td>920</td>\n",
              "      <td>920</td>\n",
              "      <td>6</td>\n",
              "      <td>2</td>\n",
              "      <td>2001</td>\n",
              "    </tr>\n",
              "    <tr>\n",
              "      <th>3</th>\n",
              "      <td>7</td>\n",
              "      <td>1717</td>\n",
              "      <td>3</td>\n",
              "      <td>642</td>\n",
              "      <td>756</td>\n",
              "      <td>961</td>\n",
              "      <td>7</td>\n",
              "      <td>1</td>\n",
              "      <td>1915</td>\n",
              "    </tr>\n",
              "    <tr>\n",
              "      <th>4</th>\n",
              "      <td>8</td>\n",
              "      <td>2198</td>\n",
              "      <td>3</td>\n",
              "      <td>836</td>\n",
              "      <td>1145</td>\n",
              "      <td>1145</td>\n",
              "      <td>9</td>\n",
              "      <td>2</td>\n",
              "      <td>2000</td>\n",
              "    </tr>\n",
              "    <tr>\n",
              "      <th>...</th>\n",
              "      <td>...</td>\n",
              "      <td>...</td>\n",
              "      <td>...</td>\n",
              "      <td>...</td>\n",
              "      <td>...</td>\n",
              "      <td>...</td>\n",
              "      <td>...</td>\n",
              "      <td>...</td>\n",
              "      <td>...</td>\n",
              "    </tr>\n",
              "    <tr>\n",
              "      <th>455</th>\n",
              "      <td>7</td>\n",
              "      <td>1242</td>\n",
              "      <td>2</td>\n",
              "      <td>528</td>\n",
              "      <td>1242</td>\n",
              "      <td>1242</td>\n",
              "      <td>6</td>\n",
              "      <td>1</td>\n",
              "      <td>1973</td>\n",
              "    </tr>\n",
              "    <tr>\n",
              "      <th>456</th>\n",
              "      <td>5</td>\n",
              "      <td>1344</td>\n",
              "      <td>3</td>\n",
              "      <td>513</td>\n",
              "      <td>624</td>\n",
              "      <td>624</td>\n",
              "      <td>7</td>\n",
              "      <td>1</td>\n",
              "      <td>1916</td>\n",
              "    </tr>\n",
              "    <tr>\n",
              "      <th>457</th>\n",
              "      <td>4</td>\n",
              "      <td>1663</td>\n",
              "      <td>2</td>\n",
              "      <td>529</td>\n",
              "      <td>1364</td>\n",
              "      <td>1663</td>\n",
              "      <td>6</td>\n",
              "      <td>1</td>\n",
              "      <td>1954</td>\n",
              "    </tr>\n",
              "    <tr>\n",
              "      <th>458</th>\n",
              "      <td>8</td>\n",
              "      <td>1666</td>\n",
              "      <td>1</td>\n",
              "      <td>228</td>\n",
              "      <td>588</td>\n",
              "      <td>833</td>\n",
              "      <td>7</td>\n",
              "      <td>1</td>\n",
              "      <td>1925</td>\n",
              "    </tr>\n",
              "    <tr>\n",
              "      <th>459</th>\n",
              "      <td>5</td>\n",
              "      <td>1203</td>\n",
              "      <td>1</td>\n",
              "      <td>352</td>\n",
              "      <td>709</td>\n",
              "      <td>979</td>\n",
              "      <td>5</td>\n",
              "      <td>1</td>\n",
              "      <td>1950</td>\n",
              "    </tr>\n",
              "  </tbody>\n",
              "</table>\n",
              "<p>460 rows × 9 columns</p>\n",
              "</div>\n",
              "      <button class=\"colab-df-convert\" onclick=\"convertToInteractive('df-7fa3cbce-f491-4db3-ae23-ac063f7fb362')\"\n",
              "              title=\"Convert this dataframe to an interactive table.\"\n",
              "              style=\"display:none;\">\n",
              "        \n",
              "  <svg xmlns=\"http://www.w3.org/2000/svg\" height=\"24px\"viewBox=\"0 0 24 24\"\n",
              "       width=\"24px\">\n",
              "    <path d=\"M0 0h24v24H0V0z\" fill=\"none\"/>\n",
              "    <path d=\"M18.56 5.44l.94 2.06.94-2.06 2.06-.94-2.06-.94-.94-2.06-.94 2.06-2.06.94zm-11 1L8.5 8.5l.94-2.06 2.06-.94-2.06-.94L8.5 2.5l-.94 2.06-2.06.94zm10 10l.94 2.06.94-2.06 2.06-.94-2.06-.94-.94-2.06-.94 2.06-2.06.94z\"/><path d=\"M17.41 7.96l-1.37-1.37c-.4-.4-.92-.59-1.43-.59-.52 0-1.04.2-1.43.59L10.3 9.45l-7.72 7.72c-.78.78-.78 2.05 0 2.83L4 21.41c.39.39.9.59 1.41.59.51 0 1.02-.2 1.41-.59l7.78-7.78 2.81-2.81c.8-.78.8-2.07 0-2.86zM5.41 20L4 18.59l7.72-7.72 1.47 1.35L5.41 20z\"/>\n",
              "  </svg>\n",
              "      </button>\n",
              "      \n",
              "  <style>\n",
              "    .colab-df-container {\n",
              "      display:flex;\n",
              "      flex-wrap:wrap;\n",
              "      gap: 12px;\n",
              "    }\n",
              "\n",
              "    .colab-df-convert {\n",
              "      background-color: #E8F0FE;\n",
              "      border: none;\n",
              "      border-radius: 50%;\n",
              "      cursor: pointer;\n",
              "      display: none;\n",
              "      fill: #1967D2;\n",
              "      height: 32px;\n",
              "      padding: 0 0 0 0;\n",
              "      width: 32px;\n",
              "    }\n",
              "\n",
              "    .colab-df-convert:hover {\n",
              "      background-color: #E2EBFA;\n",
              "      box-shadow: 0px 1px 2px rgba(60, 64, 67, 0.3), 0px 1px 3px 1px rgba(60, 64, 67, 0.15);\n",
              "      fill: #174EA6;\n",
              "    }\n",
              "\n",
              "    [theme=dark] .colab-df-convert {\n",
              "      background-color: #3B4455;\n",
              "      fill: #D2E3FC;\n",
              "    }\n",
              "\n",
              "    [theme=dark] .colab-df-convert:hover {\n",
              "      background-color: #434B5C;\n",
              "      box-shadow: 0px 1px 3px 1px rgba(0, 0, 0, 0.15);\n",
              "      filter: drop-shadow(0px 1px 2px rgba(0, 0, 0, 0.3));\n",
              "      fill: #FFFFFF;\n",
              "    }\n",
              "  </style>\n",
              "\n",
              "      <script>\n",
              "        const buttonEl =\n",
              "          document.querySelector('#df-7fa3cbce-f491-4db3-ae23-ac063f7fb362 button.colab-df-convert');\n",
              "        buttonEl.style.display =\n",
              "          google.colab.kernel.accessAllowed ? 'block' : 'none';\n",
              "\n",
              "        async function convertToInteractive(key) {\n",
              "          const element = document.querySelector('#df-7fa3cbce-f491-4db3-ae23-ac063f7fb362');\n",
              "          const dataTable =\n",
              "            await google.colab.kernel.invokeFunction('convertToInteractive',\n",
              "                                                     [key], {});\n",
              "          if (!dataTable) return;\n",
              "\n",
              "          const docLinkHtml = 'Like what you see? Visit the ' +\n",
              "            '<a target=\"_blank\" href=https://colab.research.google.com/notebooks/data_table.ipynb>data table notebook</a>'\n",
              "            + ' to learn more about interactive tables.';\n",
              "          element.innerHTML = '';\n",
              "          dataTable['output_type'] = 'display_data';\n",
              "          await google.colab.output.renderOutput(dataTable, element);\n",
              "          const docLink = document.createElement('div');\n",
              "          docLink.innerHTML = docLinkHtml;\n",
              "          element.appendChild(docLink);\n",
              "        }\n",
              "      </script>\n",
              "    </div>\n",
              "  </div>\n",
              "  "
            ]
          },
          "metadata": {},
          "execution_count": 210
        }
      ]
    },
    {
      "cell_type": "code",
      "source": [
        "#build linear regression model\n",
        "from sklearn import linear_model\n",
        "lr = linear_model.LinearRegression()\n",
        "model = lr.fit(X,Y)\n",
        "predictions = model.predict(X)"
      ],
      "metadata": {
        "id": "5vguslUQlPNg"
      },
      "execution_count": 211,
      "outputs": []
    },
    {
      "cell_type": "code",
      "source": [
        "#how good the model is\n",
        "model.score(X,Y)"
      ],
      "metadata": {
        "colab": {
          "base_uri": "https://localhost:8080/"
        },
        "id": "Sp5c_id9lPKs",
        "outputId": "25e7b7f0-b425-459b-a93f-30ba12967d03"
      },
      "execution_count": 212,
      "outputs": [
        {
          "output_type": "execute_result",
          "data": {
            "text/plain": [
              "0.83657512433703"
            ]
          },
          "metadata": {},
          "execution_count": 212
        }
      ]
    },
    {
      "cell_type": "code",
      "source": [
        "#Scatter plot of predictions\n",
        "plt.scatter(predictions, Y)"
      ],
      "metadata": {
        "colab": {
          "base_uri": "https://localhost:8080/",
          "height": 282
        },
        "id": "xJd9G_2KlPH2",
        "outputId": "097d4907-7b1b-4ebc-cd55-7e639eb38b94"
      },
      "execution_count": 213,
      "outputs": [
        {
          "output_type": "execute_result",
          "data": {
            "text/plain": [
              "<matplotlib.collections.PathCollection at 0x7f73e2afa750>"
            ]
          },
          "metadata": {},
          "execution_count": 213
        },
        {
          "output_type": "display_data",
          "data": {
            "text/plain": [
              "<Figure size 432x288 with 1 Axes>"
            ],
            "image/png": "[encoded data removed]"
          },
          "metadata": {
            "needs_background": "light"
          }
        }
      ]
    },
    {
      "cell_type": "code",
      "source": [
        "#predictions\n"
      ],
      "metadata": {
        "id": "OyPQ27Xot-Qv"
      },
      "execution_count": null,
      "outputs": []
    },
    {
      "cell_type": "code",
      "source": [
        "predictions"
      ],
      "metadata": {
        "colab": {
          "base_uri": "https://localhost:8080/"
        },
        "id": "nzWm5eKslO-c",
        "outputId": "af34b8e5-44ed-429b-eba3-286748cd65e1"
      },
      "execution_count": 216,
      "outputs": [
        {
          "output_type": "execute_result",
          "data": {
            "text/plain": [
              "array([210733.4583924 , 165562.9851263 , 220815.20709033, 198408.74350818,\n",
              "       288393.42045737, 158591.67229409, 266787.63869115, 231838.86087942,\n",
              "       187418.19435268, 111027.84206261, 127856.82577264, 297436.84915209,\n",
              "       111715.38446716, 241104.41610166, 165528.6914166 , 141312.76793658,\n",
              "       152290.62102622,  93350.87665234, 163627.24264126, 143878.99384557,\n",
              "       287690.10860056, 138512.38044475, 272119.09739967, 145805.71387805,\n",
              "       125947.98355904, 272216.21889359, 119563.82471161, 279280.69108102,\n",
              "       178507.13326763,  32384.38685493,  87784.73038098, 143319.03424117,\n",
              "       211930.48540818, 194191.66416812, 267938.35941651, 283720.12741865,\n",
              "       161989.60724007, 160189.94239378, 118835.38840276,  46647.59091343,\n",
              "       159949.58035724, 153854.70247643, 126202.47666456, 117529.25368394,\n",
              "       133366.34027353, 289425.44274318, 286568.23775199, 276065.73182661,\n",
              "        69022.56592957, 118897.33181401, 165255.69979947, 143326.92032523,\n",
              "       112681.30882592, 339382.66548092, 141331.23149285, 183148.09829285,\n",
              "       231324.1542625 , 212985.07477904, 363164.75526552, 101479.88579672,\n",
              "       186743.99223606,  89515.72139633, 226481.03633512, 166819.51786986,\n",
              "       242442.89888481, 308892.98526826, 280300.68331935, 221140.59216074,\n",
              "        63219.60546772, 253096.67217458, 288057.66210424,  98775.70909153,\n",
              "       203861.46534516, 136794.76273987,  84023.35471782,  82497.24853794,\n",
              "        92510.74513241, 120173.30908194, 152038.70016335, 102872.3763098 ,\n",
              "       206605.00773567, 177367.79036812, 263727.56273084, 135663.43551126,\n",
              "       170987.59257482, 285020.70077197, 170411.31425461, 152856.85559921,\n",
              "        81697.04452953,  95155.66342622,  78691.52649605, 155241.45838175,\n",
              "       105518.74345252, 207236.27910797, 201141.99425122, 160329.33999782,\n",
              "       228580.66022125, 102958.06784022,  75696.2755709 ,  98030.71080239,\n",
              "       204392.90535038, 182005.05790386, 129742.93352794, 209281.78058849,\n",
              "       197441.75855868, 259839.73483969,  61237.6623792 ,  88086.22330033,\n",
              "        96061.2618268 , 232259.72591905, 177444.48414608, 169716.24225435,\n",
              "       309145.85357214, 249834.16172257, 201426.54171709, 165119.51131185,\n",
              "       127784.44189109, 159495.64035914, 329565.05451441, 164333.23479801,\n",
              "       151580.3328011 ,  87579.61494471, 143254.7159836 , 168921.53336286,\n",
              "       193696.58311722,  72525.49715127, 135726.12259792,  66410.5195848 ,\n",
              "       157835.8561594 , 144889.01474617, 229175.86111682, 213643.59872667,\n",
              "       162549.4441477 , 215059.40038856, 184910.31441212, 218123.38474906,\n",
              "       128721.63636149, 262905.8248212 , 251992.68286223, 193666.88473719,\n",
              "        72338.9099334 , 254701.11830112, 142825.6578729 , 223465.13797364,\n",
              "       193370.14635505, 190615.35505783,  82727.13951691, 227699.42035175,\n",
              "       162880.05905086, 123609.5869264 , 130672.68421533, 284321.66431368,\n",
              "       198200.01007453, 189407.43283169, 142673.76278339,  93002.30995509,\n",
              "       105489.65059361, 254779.63125113, 238176.76877045, 284682.90620323,\n",
              "       167985.8648499 , 351530.55718705, 228266.97264451,  68543.82461425,\n",
              "       149935.92715441,  87344.09477222, 201556.15213582, 321218.21506924,\n",
              "       206680.20163869, 253383.47259032, 144828.91451686, 203062.25281987,\n",
              "       215627.82142468, 188090.59850508, 216769.15101867, 228205.00424164,\n",
              "       221085.92324298, 176681.15577364, 371141.12469017, 111471.83169935,\n",
              "       171244.78614283, 179216.12735484, 110840.5365658 , 254177.29151739,\n",
              "       114367.57149751, 377587.40327824, 185170.7863701 , 109554.99022415,\n",
              "       175091.1187889 , 273312.33482206, 270701.75208265, 190817.56850413,\n",
              "       220137.40444465, 208708.46009707, 110268.80002994, 160437.47693816,\n",
              "       263899.35114302, 319646.20398603, 172292.16839092, 282729.13003471,\n",
              "       124384.29693725, 165899.59493175, 117347.77920725, 147008.84144275,\n",
              "       117288.05982797, 210184.79213263, 178549.32510983, 110804.26817091,\n",
              "       237018.1563713 , 160157.34308415,  71991.98310239, 173396.17286504,\n",
              "       229256.13219431, 146914.07146411, 155609.84856217, 143348.17320241,\n",
              "       214157.13646141,  91201.88501598, 213556.83460757, 193082.38516839,\n",
              "       230843.35505548, 228721.73757991, 161692.1489714 , 105878.92014592,\n",
              "       396416.67258371, 110029.95003108, 287192.58975978, 116790.73844476,\n",
              "       112743.23367825, 219897.03685304, 156733.20585184, 338329.44297367,\n",
              "       117942.94126447, 113182.05685835, 204290.43023105, 116490.68409557,\n",
              "       212772.33574295, 211286.68188319, 280216.74317145, 148003.86079981,\n",
              "       259810.55161995,  75147.97264321, 110072.38105692, 142088.05396911,\n",
              "       237008.90799609, 259797.40805655, 166312.31448995, 184403.20655236,\n",
              "       205176.00825831, 221127.06534818,  72051.25994145, 255093.07273624,\n",
              "       185309.35719255, 154162.83975846, 150274.67144976, 247816.55014037,\n",
              "       199919.84557565, 240798.0310674 , 220793.01498739,  77916.51159943,\n",
              "       206701.88334877, 331283.821138  , 156797.30955816, 135166.05803161,\n",
              "        89088.79101115, 189639.16083307, 168856.39037507, 161669.86277583,\n",
              "       112364.23243752, 164110.47138753, 281293.66134295, 201567.82647024,\n",
              "       285980.39115495, 177256.8845785 , 105242.70772483, 178935.76210671,\n",
              "       231311.65312967,  90151.34430533, 339943.76355125, 231716.82049044,\n",
              "       226935.73261621, 182771.14259035, 208966.51297308, 260010.01482618,\n",
              "       209051.24675889, 171738.66362626, 193512.49899791,  71691.44624017,\n",
              "       108459.78873415, 134842.84444091, 259164.38955497, 104829.94931945,\n",
              "       154210.40742392, 241747.23047127, 204491.1513104 , 162250.55765031,\n",
              "       146141.15036695, 230714.13724751, 194092.81871039, 146283.16278036,\n",
              "       149508.48117654, 291037.4195956 , 244578.86457744, 126283.24952655,\n",
              "       309530.28363767, 314825.74843647, 252112.83249355, 109624.31869858,\n",
              "        91507.32214556, 317162.1697633 , 163094.33932706, 125488.89310337,\n",
              "       117536.18374964, 267513.7773056 , 187077.63522603, 182324.03663192,\n",
              "       244045.89092988, 281106.24106852, 298049.99001565, 210554.41158339,\n",
              "       324008.51535402, 308871.12051307, 300310.7499036 ,  93445.12627131,\n",
              "       288311.84125945,  93157.06806617, 274270.70516141, 176377.44921548,\n",
              "       187246.12345016,  92700.77213965, 183096.65940432, 123172.3344586 ,\n",
              "       321211.75602461, 206291.26339334, 186402.37551988, 191862.77475814,\n",
              "       315615.44467594, 226524.80879268, 211893.91741905, 157941.34170079,\n",
              "       241089.57817528,  75040.78804485,  42948.17747   , 281561.82743122,\n",
              "       114336.45676654, 164971.35214099, 131460.86264753, 184122.44989577,\n",
              "       198646.7854641 , 366882.89505641, 304648.84458319, 223440.66652024,\n",
              "        97321.69405338, 102127.85222171, 165038.39912139, 169161.33693101,\n",
              "       158829.29278573, 153321.59882922, 145613.74226686, 252781.32372524,\n",
              "       144418.02000524, 136328.9207866 , 185027.97478321, 116891.55435362,\n",
              "       171560.28370591, 118175.73988409, 192783.5565979 , 172936.73926062,\n",
              "       141366.62801944, 157319.75999852, 188820.97886747, 114400.32524736,\n",
              "       117268.94849888, 127015.74000796, 219855.87376742,  12258.95081605,\n",
              "       137805.26921789, 296375.63942897, 333241.38886308, 199486.31096079,\n",
              "       134683.01028567, 204834.85877673, 225145.0214927 , 106456.80021568,\n",
              "       226188.28347096, 212028.11095477,  77883.53309008, 155356.49926722,\n",
              "       221091.10443182, 359688.57807457, 116735.4267813 , 207167.61862278,\n",
              "        78230.23587032,  52387.17288302,  98487.23445082, 144483.37104007,\n",
              "       128110.44587635, 148906.12246218, 108070.02976491, 206773.44697382,\n",
              "       229865.1458517 , 197832.5699176 ,  72091.21881047, 269511.94647047,\n",
              "       170798.09936861, 158690.72046299, 169742.5150134 , 140177.23938258,\n",
              "       272535.26341523, 279086.13471141, 149028.17444272, 137826.13061582,\n",
              "       220731.40821734, 113698.25796248, 251165.64030939, 201696.397748  ,\n",
              "       166030.35072794, 257926.37058319, 105452.98745782, 127005.80588728,\n",
              "       222596.75129139, 205125.04709191, 128084.91099962, 323916.93990425,\n",
              "       155089.29948948, 157572.60888307, 231392.91498795,  90802.79758807,\n",
              "       197615.60330203, 191046.96680894, 116766.26156749, 113451.80011774,\n",
              "       146659.2400749 , 182949.49345701,  48039.85109955, 203274.75658495,\n",
              "       124048.70036384, 106384.17861752,  60994.81186853, 133297.73423947,\n",
              "       406560.46713835, 111432.70491248, 137728.20591206, 207501.99301991,\n",
              "       220532.37531652, 212522.37620301, 223242.9017734 , 218121.70635538,\n",
              "       121760.85441836,  74901.66316551, 102429.67422663, 217856.27759249,\n",
              "       188497.91058143, 225577.16034259, 201585.85077885, 199096.25968728,\n",
              "       124309.81956674, 173782.96724791, 184458.76071088, 120718.4554967 ])"
            ]
          },
          "metadata": {},
          "execution_count": 216
        }
      ]
    },
    {
      "cell_type": "code",
      "source": [
        "predictions.shape\n"
      ],
      "metadata": {
        "colab": {
          "base_uri": "https://localhost:8080/"
        },
        "id": "srtIEmE3k3Qs",
        "outputId": "d9d1bf30-ffe2-45c5-8388-44e9465f5bbc"
      },
      "execution_count": 217,
      "outputs": [
        {
          "output_type": "execute_result",
          "data": {
            "text/plain": [
              "(460,)"
            ]
          },
          "metadata": {},
          "execution_count": 217
        }
      ]
    },
    {
      "cell_type": "code",
      "source": [
        "i = list(range(1001,1461))\n",
        "i"
      ],
      "metadata": {
        "colab": {
          "base_uri": "https://localhost:8080/"
        },
        "id": "nNGmNoYNj8fa",
        "outputId": "0e054ce1-8514-4211-a03c-7b6ba7bd8e67"
      },
      "execution_count": 218,
      "outputs": [
        {
          "output_type": "execute_result",
          "data": {
            "text/plain": [
              "[1001,\n",
              " 1002,\n",
              " 1003,\n",
              " 1004,\n",
              " 1005,\n",
              " 1006,\n",
              " 1007,\n",
              " 1008,\n",
              " 1009,\n",
              " 1010,\n",
              " 1011,\n",
              " 1012,\n",
              " 1013,\n",
              " 1014,\n",
              " 1015,\n",
              " 1016,\n",
              " 1017,\n",
              " 1018,\n",
              " 1019,\n",
              " 1020,\n",
              " 1021,\n",
              " 1022,\n",
              " 1023,\n",
              " 1024,\n",
              " 1025,\n",
              " 1026,\n",
              " 1027,\n",
              " 1028,\n",
              " 1029,\n",
              " 1030,\n",
              " 1031,\n",
              " 1032,\n",
              " 1033,\n",
              " 1034,\n",
              " 1035,\n",
              " 1036,\n",
              " 1037,\n",
              " 1038,\n",
              " 1039,\n",
              " 1040,\n",
              " 1041,\n",
              " 1042,\n",
              " 1043,\n",
              " 1044,\n",
              " 1045,\n",
              " 1046,\n",
              " 1047,\n",
              " 1048,\n",
              " 1049,\n",
              " 1050,\n",
              " 1051,\n",
              " 1052,\n",
              " 1053,\n",
              " 1054,\n",
              " 1055,\n",
              " 1056,\n",
              " 1057,\n",
              " 1058,\n",
              " 1059,\n",
              " 1060,\n",
              " 1061,\n",
              " 1062,\n",
              " 1063,\n",
              " 1064,\n",
              " 1065,\n",
              " 1066,\n",
              " 1067,\n",
              " 1068,\n",
              " 1069,\n",
              " 1070,\n",
              " 1071,\n",
              " 1072,\n",
              " 1073,\n",
              " 1074,\n",
              " 1075,\n",
              " 1076,\n",
              " 1077,\n",
              " 1078,\n",
              " 1079,\n",
              " 1080,\n",
              " 1081,\n",
              " 1082,\n",
              " 1083,\n",
              " 1084,\n",
              " 1085,\n",
              " 1086,\n",
              " 1087,\n",
              " 1088,\n",
              " 1089,\n",
              " 1090,\n",
              " 1091,\n",
              " 1092,\n",
              " 1093,\n",
              " 1094,\n",
              " 1095,\n",
              " 1096,\n",
              " 1097,\n",
              " 1098,\n",
              " 1099,\n",
              " 1100,\n",
              " 1101,\n",
              " 1102,\n",
              " 1103,\n",
              " 1104,\n",
              " 1105,\n",
              " 1106,\n",
              " 1107,\n",
              " 1108,\n",
              " 1109,\n",
              " 1110,\n",
              " 1111,\n",
              " 1112,\n",
              " 1113,\n",
              " 1114,\n",
              " 1115,\n",
              " 1116,\n",
              " 1117,\n",
              " 1118,\n",
              " 1119,\n",
              " 1120,\n",
              " 1121,\n",
              " 1122,\n",
              " 1123,\n",
              " 1124,\n",
              " 1125,\n",
              " 1126,\n",
              " 1127,\n",
              " 1128,\n",
              " 1129,\n",
              " 1130,\n",
              " 1131,\n",
              " 1132,\n",
              " 1133,\n",
              " 1134,\n",
              " 1135,\n",
              " 1136,\n",
              " 1137,\n",
              " 1138,\n",
              " 1139,\n",
              " 1140,\n",
              " 1141,\n",
              " 1142,\n",
              " 1143,\n",
              " 1144,\n",
              " 1145,\n",
              " 1146,\n",
              " 1147,\n",
              " 1148,\n",
              " 1149,\n",
              " 1150,\n",
              " 1151,\n",
              " 1152,\n",
              " 1153,\n",
              " 1154,\n",
              " 1155,\n",
              " 1156,\n",
              " 1157,\n",
              " 1158,\n",
              " 1159,\n",
              " 1160,\n",
              " 1161,\n",
              " 1162,\n",
              " 1163,\n",
              " 1164,\n",
              " 1165,\n",
              " 1166,\n",
              " 1167,\n",
              " 1168,\n",
              " 1169,\n",
              " 1170,\n",
              " 1171,\n",
              " 1172,\n",
              " 1173,\n",
              " 1174,\n",
              " 1175,\n",
              " 1176,\n",
              " 1177,\n",
              " 1178,\n",
              " 1179,\n",
              " 1180,\n",
              " 1181,\n",
              " 1182,\n",
              " 1183,\n",
              " 1184,\n",
              " 1185,\n",
              " 1186,\n",
              " 1187,\n",
              " 1188,\n",
              " 1189,\n",
              " 1190,\n",
              " 1191,\n",
              " 1192,\n",
              " 1193,\n",
              " 1194,\n",
              " 1195,\n",
              " 1196,\n",
              " 1197,\n",
              " 1198,\n",
              " 1199,\n",
              " 1200,\n",
              " 1201,\n",
              " 1202,\n",
              " 1203,\n",
              " 1204,\n",
              " 1205,\n",
              " 1206,\n",
              " 1207,\n",
              " 1208,\n",
              " 1209,\n",
              " 1210,\n",
              " 1211,\n",
              " 1212,\n",
              " 1213,\n",
              " 1214,\n",
              " 1215,\n",
              " 1216,\n",
              " 1217,\n",
              " 1218,\n",
              " 1219,\n",
              " 1220,\n",
              " 1221,\n",
              " 1222,\n",
              " 1223,\n",
              " 1224,\n",
              " 1225,\n",
              " 1226,\n",
              " 1227,\n",
              " 1228,\n",
              " 1229,\n",
              " 1230,\n",
              " 1231,\n",
              " 1232,\n",
              " 1233,\n",
              " 1234,\n",
              " 1235,\n",
              " 1236,\n",
              " 1237,\n",
              " 1238,\n",
              " 1239,\n",
              " 1240,\n",
              " 1241,\n",
              " 1242,\n",
              " 1243,\n",
              " 1244,\n",
              " 1245,\n",
              " 1246,\n",
              " 1247,\n",
              " 1248,\n",
              " 1249,\n",
              " 1250,\n",
              " 1251,\n",
              " 1252,\n",
              " 1253,\n",
              " 1254,\n",
              " 1255,\n",
              " 1256,\n",
              " 1257,\n",
              " 1258,\n",
              " 1259,\n",
              " 1260,\n",
              " 1261,\n",
              " 1262,\n",
              " 1263,\n",
              " 1264,\n",
              " 1265,\n",
              " 1266,\n",
              " 1267,\n",
              " 1268,\n",
              " 1269,\n",
              " 1270,\n",
              " 1271,\n",
              " 1272,\n",
              " 1273,\n",
              " 1274,\n",
              " 1275,\n",
              " 1276,\n",
              " 1277,\n",
              " 1278,\n",
              " 1279,\n",
              " 1280,\n",
              " 1281,\n",
              " 1282,\n",
              " 1283,\n",
              " 1284,\n",
              " 1285,\n",
              " 1286,\n",
              " 1287,\n",
              " 1288,\n",
              " 1289,\n",
              " 1290,\n",
              " 1291,\n",
              " 1292,\n",
              " 1293,\n",
              " 1294,\n",
              " 1295,\n",
              " 1296,\n",
              " 1297,\n",
              " 1298,\n",
              " 1299,\n",
              " 1300,\n",
              " 1301,\n",
              " 1302,\n",
              " 1303,\n",
              " 1304,\n",
              " 1305,\n",
              " 1306,\n",
              " 1307,\n",
              " 1308,\n",
              " 1309,\n",
              " 1310,\n",
              " 1311,\n",
              " 1312,\n",
              " 1313,\n",
              " 1314,\n",
              " 1315,\n",
              " 1316,\n",
              " 1317,\n",
              " 1318,\n",
              " 1319,\n",
              " 1320,\n",
              " 1321,\n",
              " 1322,\n",
              " 1323,\n",
              " 1324,\n",
              " 1325,\n",
              " 1326,\n",
              " 1327,\n",
              " 1328,\n",
              " 1329,\n",
              " 1330,\n",
              " 1331,\n",
              " 1332,\n",
              " 1333,\n",
              " 1334,\n",
              " 1335,\n",
              " 1336,\n",
              " 1337,\n",
              " 1338,\n",
              " 1339,\n",
              " 1340,\n",
              " 1341,\n",
              " 1342,\n",
              " 1343,\n",
              " 1344,\n",
              " 1345,\n",
              " 1346,\n",
              " 1347,\n",
              " 1348,\n",
              " 1349,\n",
              " 1350,\n",
              " 1351,\n",
              " 1352,\n",
              " 1353,\n",
              " 1354,\n",
              " 1355,\n",
              " 1356,\n",
              " 1357,\n",
              " 1358,\n",
              " 1359,\n",
              " 1360,\n",
              " 1361,\n",
              " 1362,\n",
              " 1363,\n",
              " 1364,\n",
              " 1365,\n",
              " 1366,\n",
              " 1367,\n",
              " 1368,\n",
              " 1369,\n",
              " 1370,\n",
              " 1371,\n",
              " 1372,\n",
              " 1373,\n",
              " 1374,\n",
              " 1375,\n",
              " 1376,\n",
              " 1377,\n",
              " 1378,\n",
              " 1379,\n",
              " 1380,\n",
              " 1381,\n",
              " 1382,\n",
              " 1383,\n",
              " 1384,\n",
              " 1385,\n",
              " 1386,\n",
              " 1387,\n",
              " 1388,\n",
              " 1389,\n",
              " 1390,\n",
              " 1391,\n",
              " 1392,\n",
              " 1393,\n",
              " 1394,\n",
              " 1395,\n",
              " 1396,\n",
              " 1397,\n",
              " 1398,\n",
              " 1399,\n",
              " 1400,\n",
              " 1401,\n",
              " 1402,\n",
              " 1403,\n",
              " 1404,\n",
              " 1405,\n",
              " 1406,\n",
              " 1407,\n",
              " 1408,\n",
              " 1409,\n",
              " 1410,\n",
              " 1411,\n",
              " 1412,\n",
              " 1413,\n",
              " 1414,\n",
              " 1415,\n",
              " 1416,\n",
              " 1417,\n",
              " 1418,\n",
              " 1419,\n",
              " 1420,\n",
              " 1421,\n",
              " 1422,\n",
              " 1423,\n",
              " 1424,\n",
              " 1425,\n",
              " 1426,\n",
              " 1427,\n",
              " 1428,\n",
              " 1429,\n",
              " 1430,\n",
              " 1431,\n",
              " 1432,\n",
              " 1433,\n",
              " 1434,\n",
              " 1435,\n",
              " 1436,\n",
              " 1437,\n",
              " 1438,\n",
              " 1439,\n",
              " 1440,\n",
              " 1441,\n",
              " 1442,\n",
              " 1443,\n",
              " 1444,\n",
              " 1445,\n",
              " 1446,\n",
              " 1447,\n",
              " 1448,\n",
              " 1449,\n",
              " 1450,\n",
              " 1451,\n",
              " 1452,\n",
              " 1453,\n",
              " 1454,\n",
              " 1455,\n",
              " 1456,\n",
              " 1457,\n",
              " 1458,\n",
              " 1459,\n",
              " 1460]"
            ]
          },
          "metadata": {},
          "execution_count": 218
        }
      ]
    },
    {
      "cell_type": "code",
      "source": [
        "df2 = pd.DataFrame(index=i,data = predictions, columns=['SalesPrice'])\n",
        "df2\n"
      ],
      "metadata": {
        "id": "0OrGdYTrupWf",
        "outputId": "bb02c0e9-42f6-42e8-a9a5-7b5288183c76",
        "colab": {
          "base_uri": "https://localhost:8080/",
          "height": 424
        }
      },
      "execution_count": 219,
      "outputs": [
        {
          "output_type": "execute_result",
          "data": {
            "text/plain": [
              "         SalesPrice\n",
              "1001  210733.458392\n",
              "1002  165562.985126\n",
              "1003  220815.207090\n",
              "1004  198408.743508\n",
              "1005  288393.420457\n",
              "...             ...\n",
              "1456  199096.259687\n",
              "1457  124309.819567\n",
              "1458  173782.967248\n",
              "1459  184458.760711\n",
              "1460  120718.455497\n",
              "\n",
              "[460 rows x 1 columns]"
            ],
            "text/html": [
              "\n",
              "  <div id=\"df-91525e63-0a5c-499f-9fd6-74596b7097eb\">\n",
              "    <div class=\"colab-df-container\">\n",
              "      <div>\n",
              "<style scoped>\n",
              "    .dataframe tbody tr th:only-of-type {\n",
              "        vertical-align: middle;\n",
              "    }\n",
              "\n",
              "    .dataframe tbody tr th {\n",
              "        vertical-align: top;\n",
              "    }\n",
              "\n",
              "    .dataframe thead th {\n",
              "        text-align: right;\n",
              "    }\n",
              "</style>\n",
              "<table border=\"1\" class=\"dataframe\">\n",
              "  <thead>\n",
              "    <tr style=\"text-align: right;\">\n",
              "      <th></th>\n",
              "      <th>SalesPrice</th>\n",
              "    </tr>\n",
              "  </thead>\n",
              "  <tbody>\n",
              "    <tr>\n",
              "      <th>1001</th>\n",
              "      <td>210733.458392</td>\n",
              "    </tr>\n",
              "    <tr>\n",
              "      <th>1002</th>\n",
              "      <td>165562.985126</td>\n",
              "    </tr>\n",
              "    <tr>\n",
              "      <th>1003</th>\n",
              "      <td>220815.207090</td>\n",
              "    </tr>\n",
              "    <tr>\n",
              "      <th>1004</th>\n",
              "      <td>198408.743508</td>\n",
              "    </tr>\n",
              "    <tr>\n",
              "      <th>1005</th>\n",
              "      <td>288393.420457</td>\n",
              "    </tr>\n",
              "    <tr>\n",
              "      <th>...</th>\n",
              "      <td>...</td>\n",
              "    </tr>\n",
              "    <tr>\n",
              "      <th>1456</th>\n",
              "      <td>199096.259687</td>\n",
              "    </tr>\n",
              "    <tr>\n",
              "      <th>1457</th>\n",
              "      <td>124309.819567</td>\n",
              "    </tr>\n",
              "    <tr>\n",
              "      <th>1458</th>\n",
              "      <td>173782.967248</td>\n",
              "    </tr>\n",
              "    <tr>\n",
              "      <th>1459</th>\n",
              "      <td>184458.760711</td>\n",
              "    </tr>\n",
              "    <tr>\n",
              "      <th>1460</th>\n",
              "      <td>120718.455497</td>\n",
              "    </tr>\n",
              "  </tbody>\n",
              "</table>\n",
              "<p>460 rows × 1 columns</p>\n",
              "</div>\n",
              "      <button class=\"colab-df-convert\" onclick=\"convertToInteractive('df-91525e63-0a5c-499f-9fd6-74596b7097eb')\"\n",
              "              title=\"Convert this dataframe to an interactive table.\"\n",
              "              style=\"display:none;\">\n",
              "        \n",
              "  <svg xmlns=\"http://www.w3.org/2000/svg\" height=\"24px\"viewBox=\"0 0 24 24\"\n",
              "       width=\"24px\">\n",
              "    <path d=\"M0 0h24v24H0V0z\" fill=\"none\"/>\n",
              "    <path d=\"M18.56 5.44l.94 2.06.94-2.06 2.06-.94-2.06-.94-.94-2.06-.94 2.06-2.06.94zm-11 1L8.5 8.5l.94-2.06 2.06-.94-2.06-.94L8.5 2.5l-.94 2.06-2.06.94zm10 10l.94 2.06.94-2.06 2.06-.94-2.06-.94-.94-2.06-.94 2.06-2.06.94z\"/><path d=\"M17.41 7.96l-1.37-1.37c-.4-.4-.92-.59-1.43-.59-.52 0-1.04.2-1.43.59L10.3 9.45l-7.72 7.72c-.78.78-.78 2.05 0 2.83L4 21.41c.39.39.9.59 1.41.59.51 0 1.02-.2 1.41-.59l7.78-7.78 2.81-2.81c.8-.78.8-2.07 0-2.86zM5.41 20L4 18.59l7.72-7.72 1.47 1.35L5.41 20z\"/>\n",
              "  </svg>\n",
              "      </button>\n",
              "      \n",
              "  <style>\n",
              "    .colab-df-container {\n",
              "      display:flex;\n",
              "      flex-wrap:wrap;\n",
              "      gap: 12px;\n",
              "    }\n",
              "\n",
              "    .colab-df-convert {\n",
              "      background-color: #E8F0FE;\n",
              "      border: none;\n",
              "      border-radius: 50%;\n",
              "      cursor: pointer;\n",
              "      display: none;\n",
              "      fill: #1967D2;\n",
              "      height: 32px;\n",
              "      padding: 0 0 0 0;\n",
              "      width: 32px;\n",
              "    }\n",
              "\n",
              "    .colab-df-convert:hover {\n",
              "      background-color: #E2EBFA;\n",
              "      box-shadow: 0px 1px 2px rgba(60, 64, 67, 0.3), 0px 1px 3px 1px rgba(60, 64, 67, 0.15);\n",
              "      fill: #174EA6;\n",
              "    }\n",
              "\n",
              "    [theme=dark] .colab-df-convert {\n",
              "      background-color: #3B4455;\n",
              "      fill: #D2E3FC;\n",
              "    }\n",
              "\n",
              "    [theme=dark] .colab-df-convert:hover {\n",
              "      background-color: #434B5C;\n",
              "      box-shadow: 0px 1px 3px 1px rgba(0, 0, 0, 0.15);\n",
              "      filter: drop-shadow(0px 1px 2px rgba(0, 0, 0, 0.3));\n",
              "      fill: #FFFFFF;\n",
              "    }\n",
              "  </style>\n",
              "\n",
              "      <script>\n",
              "        const buttonEl =\n",
              "          document.querySelector('#df-91525e63-0a5c-499f-9fd6-74596b7097eb button.colab-df-convert');\n",
              "        buttonEl.style.display =\n",
              "          google.colab.kernel.accessAllowed ? 'block' : 'none';\n",
              "\n",
              "        async function convertToInteractive(key) {\n",
              "          const element = document.querySelector('#df-91525e63-0a5c-499f-9fd6-74596b7097eb');\n",
              "          const dataTable =\n",
              "            await google.colab.kernel.invokeFunction('convertToInteractive',\n",
              "                                                     [key], {});\n",
              "          if (!dataTable) return;\n",
              "\n",
              "          const docLinkHtml = 'Like what you see? Visit the ' +\n",
              "            '<a target=\"_blank\" href=https://colab.research.google.com/notebooks/data_table.ipynb>data table notebook</a>'\n",
              "            + ' to learn more about interactive tables.';\n",
              "          element.innerHTML = '';\n",
              "          dataTable['output_type'] = 'display_data';\n",
              "          await google.colab.output.renderOutput(dataTable, element);\n",
              "          const docLink = document.createElement('div');\n",
              "          docLink.innerHTML = docLinkHtml;\n",
              "          element.appendChild(docLink);\n",
              "        }\n",
              "      </script>\n",
              "    </div>\n",
              "  </div>\n",
              "  "
            ]
          },
          "metadata": {},
          "execution_count": 219
        }
      ]
    },
    {
      "cell_type": "code",
      "source": [
        "df2.to_csv('predictions.csv')"
      ],
      "metadata": {
        "id": "cGlakDJpuvg3"
      },
      "execution_count": 220,
      "outputs": []
    }
  ],
  "metadata": {
    "kernelspec": {
      "display_name": "Python 3",
      "language": "python",
      "name": "python3"
    },
    "language_info": {
      "codemirror_mode": {
        "name": "ipython",
        "version": 3
      },
      "file_extension": ".py",
      "mimetype": "text/x-python",
      "name": "python",
      "nbconvert_exporter": "python",
      "pygments_lexer": "ipython3",
      "version": "3.9.0"
    },
    "colab": {
      "name": "Predict House PricesPart 1.ipynb",
      "provenance": [],
      "include_colab_link": true
    }
  },
  "nbformat": 4,
  "nbformat_minor": 0
}